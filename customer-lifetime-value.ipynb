{
  "cells": [
    {
      "cell_type": "markdown",
      "metadata": {
        "id": "swmBFijYRoEa"
      },
      "source": [
        "# **Customer Life Time Value**"
      ]
    },
    {
      "cell_type": "code",
      "execution_count": null,
      "metadata": {
        "id": "E-RM2IgrRoEh"
      },
      "outputs": [],
      "source": [
        "import pandas as pd\n",
        "import numpy as np\n",
        "import seaborn as sns\n",
        "import matplotlib.pyplot as plt\n",
        "import datetime"
      ]
    },
    {
      "cell_type": "code",
      "execution_count": null,
      "metadata": {
        "colab": {
          "base_uri": "https://localhost:8080/"
        },
        "id": "iJoXeUAVH9hu",
        "outputId": "fb3b65f4-3004-4998-ea60-8426a4af5b47"
      },
      "outputs": [
        {
          "name": "stdout",
          "output_type": "stream",
          "text": [
            "Mounted at /content/drive\n"
          ]
        }
      ],
      "source": [
        "# Connect to google drive using the following commands:\n",
        "from google.colab import drive\n",
        "drive.mount('/content/drive')"
      ]
    },
    {
      "cell_type": "code",
      "execution_count": null,
      "metadata": {
        "colab": {
          "base_uri": "https://localhost:8080/",
          "height": 441
        },
        "id": "Pm4K8dNhH9kP",
        "outputId": "302a7b5a-e450-442e-c4e0-0fadb7ab0a57"
      },
      "outputs": [
        {
          "data": {
            "text/html": [
              "<div>\n",
              "<style scoped>\n",
              "    .dataframe tbody tr th:only-of-type {\n",
              "        vertical-align: middle;\n",
              "    }\n",
              "\n",
              "    .dataframe tbody tr th {\n",
              "        vertical-align: top;\n",
              "    }\n",
              "\n",
              "    .dataframe thead th {\n",
              "        text-align: right;\n",
              "    }\n",
              "</style>\n",
              "<table border=\"1\" class=\"dataframe\">\n",
              "  <thead>\n",
              "    <tr style=\"text-align: right;\">\n",
              "      <th></th>\n",
              "      <th>PERIODE</th>\n",
              "      <th>INVOINCENO</th>\n",
              "      <th>BRANCH_SPLR</th>\n",
              "      <th>BRANCHNAME_SPLR</th>\n",
              "      <th>CUSTID</th>\n",
              "      <th>CUSTNAME</th>\n",
              "      <th>ADDRESS</th>\n",
              "      <th>KOTA</th>\n",
              "      <th>PROVINSI</th>\n",
              "      <th>NEGARA</th>\n",
              "      <th>CHANNELID_SPLR</th>\n",
              "      <th>CHANNELNAME_SPLR</th>\n",
              "      <th>SUBDISTID</th>\n",
              "      <th>SUBDIST_NAME</th>\n",
              "      <th>ITEMID</th>\n",
              "      <th>BARCODEID</th>\n",
              "      <th>PRODUCT</th>\n",
              "      <th>PRODUCT_CATEGORY</th>\n",
              "      <th>SALES_TOTAL_RUPIAH</th>\n",
              "      <th>SALES_TOTAL_UNIT</th>\n",
              "      <th>SALES_HNA_RUPIAH</th>\n",
              "      <th>SALES_HNA_UNIT</th>\n",
              "      <th>NET_SALES</th>\n",
              "      <th>NET_SALES_BU</th>\n",
              "    </tr>\n",
              "  </thead>\n",
              "  <tbody>\n",
              "    <tr>\n",
              "      <th>0</th>\n",
              "      <td>2020-12-01 08:26:00</td>\n",
              "      <td>536365</td>\n",
              "      <td>13</td>\n",
              "      <td>SAMARINDA</td>\n",
              "      <td>3012815</td>\n",
              "      <td>DUA PUTRI SLAMET RIYADI</td>\n",
              "      <td>JL. SLAMET RIYADI</td>\n",
              "      <td>SAMARINDA</td>\n",
              "      <td>KALIMANTAN TIMUR</td>\n",
              "      <td>INDONESIA</td>\n",
              "      <td>32</td>\n",
              "      <td>Toko Kelontong</td>\n",
              "      <td>130113</td>\n",
              "      <td>CV. EKA PUTRA</td>\n",
              "      <td>10001</td>\n",
              "      <td>8992753282401</td>\n",
              "      <td>123 BENDERA COKLAT 300G</td>\n",
              "      <td>SUSU</td>\n",
              "      <td>17652.0</td>\n",
              "      <td>3</td>\n",
              "      <td>17652.0</td>\n",
              "      <td>3</td>\n",
              "      <td>17652.0</td>\n",
              "      <td>17652.0</td>\n",
              "    </tr>\n",
              "    <tr>\n",
              "      <th>1</th>\n",
              "      <td>2020-12-01 08:26:00</td>\n",
              "      <td>536365</td>\n",
              "      <td>13</td>\n",
              "      <td>SAMARINDA</td>\n",
              "      <td>3012909</td>\n",
              "      <td>SANURI</td>\n",
              "      <td>JL. M. SAID</td>\n",
              "      <td>SAMARINDA</td>\n",
              "      <td>KALIMANTAN TIMUR</td>\n",
              "      <td>INDONESIA</td>\n",
              "      <td>32</td>\n",
              "      <td>Toko Kelontong</td>\n",
              "      <td>130113</td>\n",
              "      <td>CV. EKA PUTRA</td>\n",
              "      <td>20020</td>\n",
              "      <td>8999909192034</td>\n",
              "      <td>2.3.4 FILTER</td>\n",
              "      <td>ROKOK</td>\n",
              "      <td>14154.0</td>\n",
              "      <td>3</td>\n",
              "      <td>14154.0</td>\n",
              "      <td>3</td>\n",
              "      <td>14154.0</td>\n",
              "      <td>14154.0</td>\n",
              "    </tr>\n",
              "    <tr>\n",
              "      <th>2</th>\n",
              "      <td>2020-12-01 08:26:00</td>\n",
              "      <td>536365</td>\n",
              "      <td>19</td>\n",
              "      <td>YOGYAKARTA</td>\n",
              "      <td>1921270</td>\n",
              "      <td>EMI MBAK</td>\n",
              "      <td>PS. TALUN NO.63</td>\n",
              "      <td>MAGELANG</td>\n",
              "      <td>JAWA TENGAH</td>\n",
              "      <td>INDONESIA</td>\n",
              "      <td>32</td>\n",
              "      <td>Toko Kelontong</td>\n",
              "      <td>190105</td>\n",
              "      <td>PT. KTRI DISTRIBUSI</td>\n",
              "      <td>20021</td>\n",
              "      <td>8999909007147</td>\n",
              "      <td>234 KERETEK</td>\n",
              "      <td>ROKOK</td>\n",
              "      <td>113232.0</td>\n",
              "      <td>24</td>\n",
              "      <td>113232.0</td>\n",
              "      <td>24</td>\n",
              "      <td>113232.0</td>\n",
              "      <td>113232.0</td>\n",
              "    </tr>\n",
              "    <tr>\n",
              "      <th>3</th>\n",
              "      <td>2020-12-01 08:26:00</td>\n",
              "      <td>536365</td>\n",
              "      <td>13</td>\n",
              "      <td>SAMARINDA</td>\n",
              "      <td>3012739</td>\n",
              "      <td>RISKA CELL ADAM MALIK</td>\n",
              "      <td>JL. ADAM MALIK</td>\n",
              "      <td>SAMARINDA</td>\n",
              "      <td>KALIMANTAN TIMUR</td>\n",
              "      <td>INDONESIA</td>\n",
              "      <td>32</td>\n",
              "      <td>Toko Kelontong</td>\n",
              "      <td>130113</td>\n",
              "      <td>CV. EKA PUTRA</td>\n",
              "      <td>20018</td>\n",
              "      <td>8999909172234</td>\n",
              "      <td>234 KERETEK 12</td>\n",
              "      <td>ROKOK</td>\n",
              "      <td>28308.0</td>\n",
              "      <td>6</td>\n",
              "      <td>28308.0</td>\n",
              "      <td>6</td>\n",
              "      <td>28308.0</td>\n",
              "      <td>28308.0</td>\n",
              "    </tr>\n",
              "    <tr>\n",
              "      <th>4</th>\n",
              "      <td>2020-12-01 08:26:00</td>\n",
              "      <td>536365</td>\n",
              "      <td>19</td>\n",
              "      <td>YOGYAKARTA</td>\n",
              "      <td>1921012</td>\n",
              "      <td>ABADI MART</td>\n",
              "      <td>JL.GROWONG - PUCUNG REJO MUNTILAN.</td>\n",
              "      <td>MAGELANG</td>\n",
              "      <td>JAWA TENGAH</td>\n",
              "      <td>INDONESIA</td>\n",
              "      <td>42</td>\n",
              "      <td>Mini Market</td>\n",
              "      <td>190105</td>\n",
              "      <td>PT. KTRI DISTRIBUSI</td>\n",
              "      <td>20019</td>\n",
              "      <td>8999909005860</td>\n",
              "      <td>234 KERETEK 16</td>\n",
              "      <td>ROKOK</td>\n",
              "      <td>26958.0</td>\n",
              "      <td>3</td>\n",
              "      <td>26958.0</td>\n",
              "      <td>3</td>\n",
              "      <td>26958.0</td>\n",
              "      <td>26958.0</td>\n",
              "    </tr>\n",
              "  </tbody>\n",
              "</table>\n",
              "</div>"
            ],
            "text/plain": [
              "              PERIODE INVOINCENO  ...  NET_SALES NET_SALES_BU\n",
              "0 2020-12-01 08:26:00     536365  ...    17652.0      17652.0\n",
              "1 2020-12-01 08:26:00     536365  ...    14154.0      14154.0\n",
              "2 2020-12-01 08:26:00     536365  ...   113232.0     113232.0\n",
              "3 2020-12-01 08:26:00     536365  ...    28308.0      28308.0\n",
              "4 2020-12-01 08:26:00     536365  ...    26958.0      26958.0\n",
              "\n",
              "[5 rows x 24 columns]"
            ]
          },
          "execution_count": 3,
          "metadata": {
            "tags": []
          },
          "output_type": "execute_result"
        }
      ],
      "source": [
        "# Import dataset\n",
        "df = pd.read_excel('/content/drive/My Drive/Datasets/data_retail.xlsx')\n",
        "\n",
        "df.head()"
      ]
    },
    {
      "cell_type": "code",
      "execution_count": null,
      "metadata": {
        "colab": {
          "base_uri": "https://localhost:8080/",
          "height": 921
        },
        "id": "ZPUWMo-zfGxQ",
        "outputId": "2d994555-b4db-44c9-ee36-7748ee74b8ac"
      },
      "outputs": [
        {
          "data": {
            "text/html": [
              "<div>\n",
              "<style scoped>\n",
              "    .dataframe tbody tr th:only-of-type {\n",
              "        vertical-align: middle;\n",
              "    }\n",
              "\n",
              "    .dataframe tbody tr th {\n",
              "        vertical-align: top;\n",
              "    }\n",
              "\n",
              "    .dataframe thead th {\n",
              "        text-align: right;\n",
              "    }\n",
              "</style>\n",
              "<table border=\"1\" class=\"dataframe\">\n",
              "  <thead>\n",
              "    <tr style=\"text-align: right;\">\n",
              "      <th></th>\n",
              "      <th></th>\n",
              "      <th></th>\n",
              "      <th></th>\n",
              "      <th></th>\n",
              "      <th></th>\n",
              "      <th></th>\n",
              "      <th></th>\n",
              "      <th></th>\n",
              "      <th></th>\n",
              "      <th></th>\n",
              "      <th></th>\n",
              "      <th></th>\n",
              "      <th></th>\n",
              "      <th></th>\n",
              "      <th></th>\n",
              "      <th></th>\n",
              "      <th></th>\n",
              "      <th></th>\n",
              "      <th></th>\n",
              "      <th></th>\n",
              "      <th></th>\n",
              "      <th></th>\n",
              "      <th></th>\n",
              "      <th>0</th>\n",
              "    </tr>\n",
              "    <tr>\n",
              "      <th>PERIODE</th>\n",
              "      <th>INVOINCENO</th>\n",
              "      <th>BRANCH_SPLR</th>\n",
              "      <th>BRANCHNAME_SPLR</th>\n",
              "      <th>CUSTID</th>\n",
              "      <th>CUSTNAME</th>\n",
              "      <th>ADDRESS</th>\n",
              "      <th>KOTA</th>\n",
              "      <th>PROVINSI</th>\n",
              "      <th>NEGARA</th>\n",
              "      <th>CHANNELID_SPLR</th>\n",
              "      <th>CHANNELNAME_SPLR</th>\n",
              "      <th>SUBDISTID</th>\n",
              "      <th>SUBDIST_NAME</th>\n",
              "      <th>ITEMID</th>\n",
              "      <th>BARCODEID</th>\n",
              "      <th>PRODUCT</th>\n",
              "      <th>PRODUCT_CATEGORY</th>\n",
              "      <th>SALES_TOTAL_RUPIAH</th>\n",
              "      <th>SALES_TOTAL_UNIT</th>\n",
              "      <th>SALES_HNA_RUPIAH</th>\n",
              "      <th>SALES_HNA_UNIT</th>\n",
              "      <th>NET_SALES</th>\n",
              "      <th>NET_SALES_BU</th>\n",
              "      <th></th>\n",
              "    </tr>\n",
              "  </thead>\n",
              "  <tbody>\n",
              "    <tr>\n",
              "      <th rowspan=\"5\" valign=\"top\">2021-11-09 16:14:00</th>\n",
              "      <th rowspan=\"5\" valign=\"top\">575477</th>\n",
              "      <th rowspan=\"5\" valign=\"top\">33</th>\n",
              "      <th rowspan=\"5\" valign=\"top\">PANGKALPINANG</th>\n",
              "      <th>10026</th>\n",
              "      <th>PETER MART</th>\n",
              "      <th>JLN. PANGKALPINANG NAMANG NO.16 AIR MESU</th>\n",
              "      <th>BANGKA TENGAH</th>\n",
              "      <th>BANGKA BELITUNG</th>\n",
              "      <th>INDONESIA</th>\n",
              "      <th>42</th>\n",
              "      <th>Mini Market</th>\n",
              "      <th>370205</th>\n",
              "      <th>CV. IGEDE</th>\n",
              "      <th>Y0395</th>\n",
              "      <th>8992741986175</th>\n",
              "      <th>YUPI MILLY MOOS 24SX9G</th>\n",
              "      <th>SUSU</th>\n",
              "      <th>129600.0</th>\n",
              "      <th>24</th>\n",
              "      <th>129600.0</th>\n",
              "      <th>24</th>\n",
              "      <th>129600.0</th>\n",
              "      <th>129600.0</th>\n",
              "      <td>4</td>\n",
              "    </tr>\n",
              "    <tr>\n",
              "      <th>10302</th>\n",
              "      <th>LILY, TK</th>\n",
              "      <th>JLN. KP. SULAIMAN ARIEF, MASJID JAMIK, RANGKUI</th>\n",
              "      <th>PANGKALPINANG</th>\n",
              "      <th>BANGKA BELITUNG</th>\n",
              "      <th>INDONESIA</th>\n",
              "      <th>32</th>\n",
              "      <th>Toko Kelontong</th>\n",
              "      <th>370205</th>\n",
              "      <th>CV. IGEDE</th>\n",
              "      <th>A2665</th>\n",
              "      <th>8992388121250</th>\n",
              "      <th>ABC CUP SELERA PEDAS 65G SEMUR</th>\n",
              "      <th>MINUMAN</th>\n",
              "      <th>64800.0</th>\n",
              "      <th>12</th>\n",
              "      <th>64800.0</th>\n",
              "      <th>12</th>\n",
              "      <th>64800.0</th>\n",
              "      <th>64800.0</th>\n",
              "      <td>4</td>\n",
              "    </tr>\n",
              "    <tr>\n",
              "      <th>14238</th>\n",
              "      <th>PARLI, TK</th>\n",
              "      <th>SELINDUNG</th>\n",
              "      <th>PANGKALPINANG</th>\n",
              "      <th>BANGKA BELITUNG</th>\n",
              "      <th>INDONESIA</th>\n",
              "      <th>32</th>\n",
              "      <th>Toko Kelontong</th>\n",
              "      <th>370205</th>\n",
              "      <th>CV. IGEDE</th>\n",
              "      <th>G2639</th>\n",
              "      <th>8998866608602</th>\n",
              "      <th>GIV WHITE 80G</th>\n",
              "      <th>DETERGEN</th>\n",
              "      <th>259200.0</th>\n",
              "      <th>48</th>\n",
              "      <th>259200.0</th>\n",
              "      <th>48</th>\n",
              "      <th>259200.0</th>\n",
              "      <th>259200.0</th>\n",
              "      <td>4</td>\n",
              "    </tr>\n",
              "    <tr>\n",
              "      <th>14221</th>\n",
              "      <th>YUK EL, TK</th>\n",
              "      <th>JLN. RAYA GADUNG NO. 16, SIMPANG PERLANG</th>\n",
              "      <th>BANGKA TENGAH</th>\n",
              "      <th>BANGKA BELITUNG</th>\n",
              "      <th>INDONESIA</th>\n",
              "      <th>32</th>\n",
              "      <th>Toko Kelontong</th>\n",
              "      <th>370205</th>\n",
              "      <th>CV. IGEDE</th>\n",
              "      <th>G0929</th>\n",
              "      <th>8888036008687</th>\n",
              "      <th>G/L HAIR MOIST 240ML</th>\n",
              "      <th>KOSMETIK</th>\n",
              "      <th>129600.0</th>\n",
              "      <th>24</th>\n",
              "      <th>129600.0</th>\n",
              "      <th>24</th>\n",
              "      <th>129600.0</th>\n",
              "      <th>129600.0</th>\n",
              "      <td>4</td>\n",
              "    </tr>\n",
              "    <tr>\n",
              "      <th>14210</th>\n",
              "      <th>YUDHI, TK</th>\n",
              "      <th>JLN. TAMPUK PINANGPURA, TUA TUNU, GERUNGGANG</th>\n",
              "      <th>PANGKALPINANG</th>\n",
              "      <th>BANGKA BELITUNG</th>\n",
              "      <th>INDONESIA</th>\n",
              "      <th>32</th>\n",
              "      <th>Toko Kelontong</th>\n",
              "      <th>370205</th>\n",
              "      <th>CV. IGEDE</th>\n",
              "      <th>A2689</th>\n",
              "      <th>8991002101111</th>\n",
              "      <th>ABC BROWNIES 30S</th>\n",
              "      <th>TEH &amp; KOPI</th>\n",
              "      <th>32400.0</th>\n",
              "      <th>6</th>\n",
              "      <th>32400.0</th>\n",
              "      <th>6</th>\n",
              "      <th>32400.0</th>\n",
              "      <th>32400.0</th>\n",
              "      <td>4</td>\n",
              "    </tr>\n",
              "    <tr>\n",
              "      <th>...</th>\n",
              "      <th>...</th>\n",
              "      <th>...</th>\n",
              "      <th>...</th>\n",
              "      <th>...</th>\n",
              "      <th>...</th>\n",
              "      <th>...</th>\n",
              "      <th>...</th>\n",
              "      <th>...</th>\n",
              "      <th>...</th>\n",
              "      <th>...</th>\n",
              "      <th>...</th>\n",
              "      <th>...</th>\n",
              "      <th>...</th>\n",
              "      <th>...</th>\n",
              "      <th>...</th>\n",
              "      <th>...</th>\n",
              "      <th>...</th>\n",
              "      <th>...</th>\n",
              "      <th>...</th>\n",
              "      <th>...</th>\n",
              "      <th>...</th>\n",
              "      <th>...</th>\n",
              "      <th>...</th>\n",
              "      <td>...</td>\n",
              "    </tr>\n",
              "    <tr>\n",
              "      <th rowspan=\"4\" valign=\"top\">2021-09-23 17:02:00</th>\n",
              "      <th rowspan=\"4\" valign=\"top\">568134</th>\n",
              "      <th rowspan=\"4\" valign=\"top\">45</th>\n",
              "      <th rowspan=\"4\" valign=\"top\">KUDUS</th>\n",
              "      <th>4511388</th>\n",
              "      <th>NADIN CELL (KD-TANJUNG REJO)</th>\n",
              "      <th>TANJUNG REJO RT 02 RW 02 SEBELAH SMP</th>\n",
              "      <th>KUDUS</th>\n",
              "      <th>JAWA TENGAH</th>\n",
              "      <th>INDONESIA</th>\n",
              "      <th>32</th>\n",
              "      <th>Toko Kelontong</th>\n",
              "      <th>450202</th>\n",
              "      <th>CV. CAHYO SELAMANYA</th>\n",
              "      <th>B4401</th>\n",
              "      <th>8993417493713</th>\n",
              "      <th>B&amp;B BABY WIPES 55S REFF</th>\n",
              "      <th>MINYAK RAMBUT</th>\n",
              "      <th>35304.0</th>\n",
              "      <th>6</th>\n",
              "      <th>35304.0</th>\n",
              "      <th>6</th>\n",
              "      <th>35304.0</th>\n",
              "      <th>35304.0</th>\n",
              "      <td>1</td>\n",
              "    </tr>\n",
              "    <tr>\n",
              "      <th>4511412</th>\n",
              "      <th>NURI (KD-TENGGELES)</th>\n",
              "      <th>/DEPAN SD 1 TENGGELES</th>\n",
              "      <th>KUDUS</th>\n",
              "      <th>JAWA TENGAH</th>\n",
              "      <th>INDONESIA</th>\n",
              "      <th>32</th>\n",
              "      <th>Toko Kelontong</th>\n",
              "      <th>450202</th>\n",
              "      <th>CV. CAHYO SELAMANYA</th>\n",
              "      <th>D0976</th>\n",
              "      <th>4891338007306</th>\n",
              "      <th>DARLIE 225G B/D MOBIL</th>\n",
              "      <th>PASTA &amp; S-GIGI</th>\n",
              "      <th>56616.0</th>\n",
              "      <th>12</th>\n",
              "      <th>56616.0</th>\n",
              "      <th>12</th>\n",
              "      <th>56616.0</th>\n",
              "      <th>56616.0</th>\n",
              "      <td>1</td>\n",
              "    </tr>\n",
              "    <tr>\n",
              "      <th>4511432</th>\n",
              "      <th>POLRES KUDUS (KD03-SUDIRMAN)</th>\n",
              "      <th>JL JEND SUDIRMAN</th>\n",
              "      <th>KUDUS</th>\n",
              "      <th>JAWA TENGAH</th>\n",
              "      <th>INDONESIA</th>\n",
              "      <th>78</th>\n",
              "      <th>Institusi</th>\n",
              "      <th>450202</th>\n",
              "      <th>CV. CAHYO SELAMANYA</th>\n",
              "      <th>C0769</th>\n",
              "      <th>8994405101061</th>\n",
              "      <th>CBA COCO PUFF 260G</th>\n",
              "      <th>BISKUIT</th>\n",
              "      <th>211824.0</th>\n",
              "      <th>36</th>\n",
              "      <th>211824.0</th>\n",
              "      <th>36</th>\n",
              "      <th>211824.0</th>\n",
              "      <th>211824.0</th>\n",
              "      <td>1</td>\n",
              "    </tr>\n",
              "    <tr>\n",
              "      <th>4511442</th>\n",
              "      <th>PT BENGAWAN R.M (LUWES PURWODADI)</th>\n",
              "      <th>/JL ADI SUMARMO NO 95 NGABEYAN KARTOSURO</th>\n",
              "      <th>BLORA</th>\n",
              "      <th>JAWA TENGAH</th>\n",
              "      <th>INDONESIA</th>\n",
              "      <th>32</th>\n",
              "      <th>Toko Kelontong</th>\n",
              "      <th>450202</th>\n",
              "      <th>CV. CAHYO SELAMANYA</th>\n",
              "      <th>B3223</th>\n",
              "      <th>8994070000331</th>\n",
              "      <th>BABY CUP SL 033</th>\n",
              "      <th>ALAT RUMAH TANGGA</th>\n",
              "      <th>113232.0</th>\n",
              "      <th>24</th>\n",
              "      <th>113232.0</th>\n",
              "      <th>24</th>\n",
              "      <th>113232.0</th>\n",
              "      <th>113232.0</th>\n",
              "      <td>1</td>\n",
              "    </tr>\n",
              "    <tr>\n",
              "      <th>2020-12-01 08:26:00</th>\n",
              "      <th>536365</th>\n",
              "      <th>13</th>\n",
              "      <th>SAMARINDA</th>\n",
              "      <th>3012739</th>\n",
              "      <th>RISKA CELL ADAM MALIK</th>\n",
              "      <th>JL. ADAM MALIK</th>\n",
              "      <th>SAMARINDA</th>\n",
              "      <th>KALIMANTAN TIMUR</th>\n",
              "      <th>INDONESIA</th>\n",
              "      <th>32</th>\n",
              "      <th>Toko Kelontong</th>\n",
              "      <th>130113</th>\n",
              "      <th>CV. EKA PUTRA</th>\n",
              "      <th>20018</th>\n",
              "      <th>8999909172234</th>\n",
              "      <th>234 KERETEK 12</th>\n",
              "      <th>ROKOK</th>\n",
              "      <th>28308.0</th>\n",
              "      <th>6</th>\n",
              "      <th>28308.0</th>\n",
              "      <th>6</th>\n",
              "      <th>28308.0</th>\n",
              "      <th>28308.0</th>\n",
              "      <td>1</td>\n",
              "    </tr>\n",
              "  </tbody>\n",
              "</table>\n",
              "<p>510405 rows × 1 columns</p>\n",
              "</div>"
            ],
            "text/plain": [
              "                                                                                                                                                                                                                                                                                                                                                                                                                             0\n",
              "PERIODE             INVOINCENO BRANCH_SPLR BRANCHNAME_SPLR CUSTID  CUSTNAME                          ADDRESS                                        KOTA          PROVINSI         NEGARA    CHANNELID_SPLR CHANNELNAME_SPLR SUBDISTID SUBDIST_NAME        ITEMID BARCODEID     PRODUCT                        PRODUCT_CATEGORY  SALES_TOTAL_RUPIAH SALES_TOTAL_UNIT SALES_HNA_RUPIAH SALES_HNA_UNIT NET_SALES NET_SALES_BU   \n",
              "2021-11-09 16:14:00 575477     33          PANGKALPINANG   10026   PETER MART                        JLN. PANGKALPINANG NAMANG NO.16 AIR MESU       BANGKA TENGAH BANGKA BELITUNG  INDONESIA 42             Mini Market      370205    CV. IGEDE           Y0395  8992741986175 YUPI MILLY MOOS 24SX9G         SUSU              129600.0           24               129600.0         24             129600.0  129600.0      4\n",
              "                                                           10302   LILY, TK                          JLN. KP. SULAIMAN ARIEF, MASJID JAMIK, RANGKUI PANGKALPINANG BANGKA BELITUNG  INDONESIA 32             Toko Kelontong   370205    CV. IGEDE           A2665  8992388121250 ABC CUP SELERA PEDAS 65G SEMUR MINUMAN           64800.0            12               64800.0          12             64800.0   64800.0       4\n",
              "                                                           14238   PARLI, TK                         SELINDUNG                                      PANGKALPINANG BANGKA BELITUNG  INDONESIA 32             Toko Kelontong   370205    CV. IGEDE           G2639  8998866608602 GIV WHITE 80G                  DETERGEN          259200.0           48               259200.0         48             259200.0  259200.0      4\n",
              "                                                           14221   YUK EL, TK                        JLN. RAYA GADUNG NO. 16, SIMPANG PERLANG       BANGKA TENGAH BANGKA BELITUNG  INDONESIA 32             Toko Kelontong   370205    CV. IGEDE           G0929  8888036008687 G/L HAIR MOIST 240ML           KOSMETIK          129600.0           24               129600.0         24             129600.0  129600.0      4\n",
              "                                                           14210   YUDHI, TK                         JLN. TAMPUK PINANGPURA, TUA TUNU, GERUNGGANG   PANGKALPINANG BANGKA BELITUNG  INDONESIA 32             Toko Kelontong   370205    CV. IGEDE           A2689  8991002101111 ABC BROWNIES 30S               TEH & KOPI        32400.0            6                32400.0          6              32400.0   32400.0       4\n",
              "...                                                                                                                                                                                                                                                                                                                                                                                                                         ..\n",
              "2021-09-23 17:02:00 568134     45          KUDUS           4511388 NADIN CELL (KD-TANJUNG REJO)      TANJUNG REJO RT 02 RW 02 SEBELAH SMP           KUDUS         JAWA TENGAH      INDONESIA 32             Toko Kelontong   450202    CV. CAHYO SELAMANYA B4401  8993417493713 B&B BABY WIPES 55S REFF        MINYAK RAMBUT     35304.0            6                35304.0          6              35304.0   35304.0       1\n",
              "                                                           4511412 NURI (KD-TENGGELES)               /DEPAN SD 1 TENGGELES                          KUDUS         JAWA TENGAH      INDONESIA 32             Toko Kelontong   450202    CV. CAHYO SELAMANYA D0976  4891338007306 DARLIE 225G B/D MOBIL          PASTA & S-GIGI    56616.0            12               56616.0          12             56616.0   56616.0       1\n",
              "                                                           4511432 POLRES KUDUS (KD03-SUDIRMAN)      JL JEND SUDIRMAN                               KUDUS         JAWA TENGAH      INDONESIA 78             Institusi        450202    CV. CAHYO SELAMANYA C0769  8994405101061 CBA COCO PUFF 260G             BISKUIT           211824.0           36               211824.0         36             211824.0  211824.0      1\n",
              "                                                           4511442 PT BENGAWAN R.M (LUWES PURWODADI) /JL ADI SUMARMO NO 95 NGABEYAN KARTOSURO       BLORA         JAWA TENGAH      INDONESIA 32             Toko Kelontong   450202    CV. CAHYO SELAMANYA B3223  8994070000331 BABY CUP SL 033                ALAT RUMAH TANGGA 113232.0           24               113232.0         24             113232.0  113232.0      1\n",
              "2020-12-01 08:26:00 536365     13          SAMARINDA       3012739 RISKA CELL ADAM MALIK             JL. ADAM MALIK                                 SAMARINDA     KALIMANTAN TIMUR INDONESIA 32             Toko Kelontong   130113    CV. EKA PUTRA       20018  8999909172234 234 KERETEK 12                 ROKOK             28308.0            6                28308.0          6              28308.0   28308.0       1\n",
              "\n",
              "[510405 rows x 1 columns]"
            ]
          },
          "execution_count": 4,
          "metadata": {
            "tags": []
          },
          "output_type": "execute_result"
        }
      ],
      "source": [
        "product_df = df.value_counts()\n",
        "product_df = pd.DataFrame(product_df)\n",
        "product_df "
      ]
    },
    {
      "cell_type": "code",
      "execution_count": null,
      "metadata": {
        "colab": {
          "base_uri": "https://localhost:8080/"
        },
        "id": "vRk0wmnRvKRJ",
        "outputId": "1058b404-9c26-4deb-9895-f0bde1884b7b"
      },
      "outputs": [
        {
          "data": {
            "text/plain": [
              "(541909, 24)"
            ]
          },
          "execution_count": 5,
          "metadata": {
            "tags": []
          },
          "output_type": "execute_result"
        }
      ],
      "source": [
        "df.shape"
      ]
    },
    {
      "cell_type": "code",
      "execution_count": null,
      "metadata": {
        "colab": {
          "base_uri": "https://localhost:8080/"
        },
        "id": "V-Y8lV6RH9mz",
        "outputId": "b6377970-5cf9-4a84-d551-0eeec2c232ec"
      },
      "outputs": [
        {
          "name": "stdout",
          "output_type": "stream",
          "text": [
            "<class 'pandas.core.frame.DataFrame'>\n",
            "RangeIndex: 541909 entries, 0 to 541908\n",
            "Data columns (total 24 columns):\n",
            " #   Column              Non-Null Count   Dtype         \n",
            "---  ------              --------------   -----         \n",
            " 0   PERIODE             541909 non-null  datetime64[ns]\n",
            " 1   INVOINCENO          541909 non-null  object        \n",
            " 2   BRANCH_SPLR         541909 non-null  int64         \n",
            " 3   BRANCHNAME_SPLR     541909 non-null  object        \n",
            " 4   CUSTID              541909 non-null  object        \n",
            " 5   CUSTNAME            541909 non-null  object        \n",
            " 6   ADDRESS             541737 non-null  object        \n",
            " 7   KOTA                525237 non-null  object        \n",
            " 8   PROVINSI            527069 non-null  object        \n",
            " 9   NEGARA              541909 non-null  object        \n",
            " 10  CHANNELID_SPLR      541909 non-null  int64         \n",
            " 11  CHANNELNAME_SPLR    541909 non-null  object        \n",
            " 12  SUBDISTID           541909 non-null  int64         \n",
            " 13  SUBDIST_NAME        541909 non-null  object        \n",
            " 14  ITEMID              541909 non-null  object        \n",
            " 15  BARCODEID           541909 non-null  int64         \n",
            " 16  PRODUCT             541909 non-null  object        \n",
            " 17  PRODUCT_CATEGORY    541909 non-null  object        \n",
            " 18  SALES_TOTAL_RUPIAH  541909 non-null  float64       \n",
            " 19  SALES_TOTAL_UNIT    541909 non-null  int64         \n",
            " 20  SALES_HNA_RUPIAH    541909 non-null  float64       \n",
            " 21  SALES_HNA_UNIT      541909 non-null  int64         \n",
            " 22  NET_SALES           541909 non-null  float64       \n",
            " 23  NET_SALES_BU        541909 non-null  float64       \n",
            "dtypes: datetime64[ns](1), float64(4), int64(6), object(13)\n",
            "memory usage: 99.2+ MB\n"
          ]
        }
      ],
      "source": [
        "df.info()"
      ]
    },
    {
      "cell_type": "code",
      "execution_count": null,
      "metadata": {
        "id": "MJ-U-cCsKPzd"
      },
      "outputs": [],
      "source": [
        "# Mengganti kolom PERIODE menjadi tipe data datetime\n",
        "df['PERIODE'] = pd.to_datetime(df['PERIODE'])"
      ]
    },
    {
      "cell_type": "code",
      "execution_count": null,
      "metadata": {
        "id": "DdwZixUQH90L"
      },
      "outputs": [],
      "source": [
        "# Menghapus column yang tidak digunakan / duplicate columns\n",
        "df = df.drop(columns=['SALES_HNA_RUPIAH','SALES_HNA_UNIT','NET_SALES','NET_SALES_BU'])"
      ]
    },
    {
      "cell_type": "code",
      "execution_count": null,
      "metadata": {
        "id": "cHYStO6hH9sV"
      },
      "outputs": [],
      "source": [
        "# Hapus quantity unit yang kurang dari 0\n",
        "df = df.loc[df['SALES_TOTAL_UNIT'] > 0]"
      ]
    },
    {
      "cell_type": "code",
      "execution_count": null,
      "metadata": {
        "id": "fr_oZj_yH9u9"
      },
      "outputs": [],
      "source": [
        "# Remove blank CUSTID & SUBDISTID\n",
        "df = df[pd.notnull(df['CUSTID'])]\n",
        "df = df[pd.notnull(df['SUBDISTID'])]"
      ]
    },
    {
      "cell_type": "code",
      "execution_count": null,
      "metadata": {
        "id": "u8XVnn_7vUzY"
      },
      "outputs": [],
      "source": [
        "# Remove blank customer IDs\n",
        "# df = df[pd.notnull(df['CustomerID'])]"
      ]
    },
    {
      "cell_type": "code",
      "execution_count": null,
      "metadata": {
        "colab": {
          "base_uri": "https://localhost:8080/"
        },
        "id": "gou0NuLgK-1r",
        "outputId": "8efff134-782e-46a5-c1c1-d2c2ddd21ef2"
      },
      "outputs": [
        {
          "name": "stdout",
          "output_type": "stream",
          "text": [
            "Date Range: 2020-12-01 08:26:00 to 2021-12-09 12:50:00\n"
          ]
        }
      ],
      "source": [
        "# melihat range/rentang waktu dari data yang digunakan\n",
        "print('Date Range: %s to %s' % (df['PERIODE'].min(), df['PERIODE'].max()))"
      ]
    },
    {
      "cell_type": "code",
      "execution_count": null,
      "metadata": {
        "colab": {
          "base_uri": "https://localhost:8080/",
          "height": 890
        },
        "id": "R0gdus2Cfzk0",
        "outputId": "7892508f-b150-45a9-c648-75bedac5d5e8"
      },
      "outputs": [
        {
          "data": {
            "text/html": [
              "<div>\n",
              "<style scoped>\n",
              "    .dataframe tbody tr th:only-of-type {\n",
              "        vertical-align: middle;\n",
              "    }\n",
              "\n",
              "    .dataframe tbody tr th {\n",
              "        vertical-align: top;\n",
              "    }\n",
              "\n",
              "    .dataframe thead th {\n",
              "        text-align: right;\n",
              "    }\n",
              "</style>\n",
              "<table border=\"1\" class=\"dataframe\">\n",
              "  <thead>\n",
              "    <tr style=\"text-align: right;\">\n",
              "      <th></th>\n",
              "      <th>PERIODE</th>\n",
              "      <th>INVOINCENO</th>\n",
              "      <th>BRANCH_SPLR</th>\n",
              "      <th>BRANCHNAME_SPLR</th>\n",
              "      <th>CUSTID</th>\n",
              "      <th>CUSTNAME</th>\n",
              "      <th>ADDRESS</th>\n",
              "      <th>KOTA</th>\n",
              "      <th>PROVINSI</th>\n",
              "      <th>NEGARA</th>\n",
              "      <th>CHANNELID_SPLR</th>\n",
              "      <th>CHANNELNAME_SPLR</th>\n",
              "      <th>SUBDISTID</th>\n",
              "      <th>SUBDIST_NAME</th>\n",
              "      <th>ITEMID</th>\n",
              "      <th>BARCODEID</th>\n",
              "      <th>PRODUCT</th>\n",
              "      <th>PRODUCT_CATEGORY</th>\n",
              "      <th>SALES_TOTAL_RUPIAH</th>\n",
              "      <th>SALES_TOTAL_UNIT</th>\n",
              "    </tr>\n",
              "  </thead>\n",
              "  <tbody>\n",
              "    <tr>\n",
              "      <th>0</th>\n",
              "      <td>2020-12-01 08:26:00</td>\n",
              "      <td>536365</td>\n",
              "      <td>13</td>\n",
              "      <td>SAMARINDA</td>\n",
              "      <td>3012815</td>\n",
              "      <td>DUA PUTRI SLAMET RIYADI</td>\n",
              "      <td>JL. SLAMET RIYADI</td>\n",
              "      <td>SAMARINDA</td>\n",
              "      <td>KALIMANTAN TIMUR</td>\n",
              "      <td>INDONESIA</td>\n",
              "      <td>32</td>\n",
              "      <td>Toko Kelontong</td>\n",
              "      <td>130113</td>\n",
              "      <td>CV. EKA PUTRA</td>\n",
              "      <td>10001</td>\n",
              "      <td>8992753282401</td>\n",
              "      <td>123 BENDERA COKLAT 300G</td>\n",
              "      <td>SUSU</td>\n",
              "      <td>17652.0</td>\n",
              "      <td>3</td>\n",
              "    </tr>\n",
              "    <tr>\n",
              "      <th>1</th>\n",
              "      <td>2020-12-01 08:26:00</td>\n",
              "      <td>536365</td>\n",
              "      <td>13</td>\n",
              "      <td>SAMARINDA</td>\n",
              "      <td>3012909</td>\n",
              "      <td>SANURI</td>\n",
              "      <td>JL. M. SAID</td>\n",
              "      <td>SAMARINDA</td>\n",
              "      <td>KALIMANTAN TIMUR</td>\n",
              "      <td>INDONESIA</td>\n",
              "      <td>32</td>\n",
              "      <td>Toko Kelontong</td>\n",
              "      <td>130113</td>\n",
              "      <td>CV. EKA PUTRA</td>\n",
              "      <td>20020</td>\n",
              "      <td>8999909192034</td>\n",
              "      <td>2.3.4 FILTER</td>\n",
              "      <td>ROKOK</td>\n",
              "      <td>14154.0</td>\n",
              "      <td>3</td>\n",
              "    </tr>\n",
              "    <tr>\n",
              "      <th>2</th>\n",
              "      <td>2020-12-01 08:26:00</td>\n",
              "      <td>536365</td>\n",
              "      <td>19</td>\n",
              "      <td>YOGYAKARTA</td>\n",
              "      <td>1921270</td>\n",
              "      <td>EMI MBAK</td>\n",
              "      <td>PS. TALUN NO.63</td>\n",
              "      <td>MAGELANG</td>\n",
              "      <td>JAWA TENGAH</td>\n",
              "      <td>INDONESIA</td>\n",
              "      <td>32</td>\n",
              "      <td>Toko Kelontong</td>\n",
              "      <td>190105</td>\n",
              "      <td>PT. KTRI DISTRIBUSI</td>\n",
              "      <td>20021</td>\n",
              "      <td>8999909007147</td>\n",
              "      <td>234 KERETEK</td>\n",
              "      <td>ROKOK</td>\n",
              "      <td>113232.0</td>\n",
              "      <td>24</td>\n",
              "    </tr>\n",
              "    <tr>\n",
              "      <th>3</th>\n",
              "      <td>2020-12-01 08:26:00</td>\n",
              "      <td>536365</td>\n",
              "      <td>13</td>\n",
              "      <td>SAMARINDA</td>\n",
              "      <td>3012739</td>\n",
              "      <td>RISKA CELL ADAM MALIK</td>\n",
              "      <td>JL. ADAM MALIK</td>\n",
              "      <td>SAMARINDA</td>\n",
              "      <td>KALIMANTAN TIMUR</td>\n",
              "      <td>INDONESIA</td>\n",
              "      <td>32</td>\n",
              "      <td>Toko Kelontong</td>\n",
              "      <td>130113</td>\n",
              "      <td>CV. EKA PUTRA</td>\n",
              "      <td>20018</td>\n",
              "      <td>8999909172234</td>\n",
              "      <td>234 KERETEK 12</td>\n",
              "      <td>ROKOK</td>\n",
              "      <td>28308.0</td>\n",
              "      <td>6</td>\n",
              "    </tr>\n",
              "    <tr>\n",
              "      <th>4</th>\n",
              "      <td>2020-12-01 08:26:00</td>\n",
              "      <td>536365</td>\n",
              "      <td>19</td>\n",
              "      <td>YOGYAKARTA</td>\n",
              "      <td>1921012</td>\n",
              "      <td>ABADI MART</td>\n",
              "      <td>JL.GROWONG - PUCUNG REJO MUNTILAN.</td>\n",
              "      <td>MAGELANG</td>\n",
              "      <td>JAWA TENGAH</td>\n",
              "      <td>INDONESIA</td>\n",
              "      <td>42</td>\n",
              "      <td>Mini Market</td>\n",
              "      <td>190105</td>\n",
              "      <td>PT. KTRI DISTRIBUSI</td>\n",
              "      <td>20019</td>\n",
              "      <td>8999909005860</td>\n",
              "      <td>234 KERETEK 16</td>\n",
              "      <td>ROKOK</td>\n",
              "      <td>26958.0</td>\n",
              "      <td>3</td>\n",
              "    </tr>\n",
              "    <tr>\n",
              "      <th>...</th>\n",
              "      <td>...</td>\n",
              "      <td>...</td>\n",
              "      <td>...</td>\n",
              "      <td>...</td>\n",
              "      <td>...</td>\n",
              "      <td>...</td>\n",
              "      <td>...</td>\n",
              "      <td>...</td>\n",
              "      <td>...</td>\n",
              "      <td>...</td>\n",
              "      <td>...</td>\n",
              "      <td>...</td>\n",
              "      <td>...</td>\n",
              "      <td>...</td>\n",
              "      <td>...</td>\n",
              "      <td>...</td>\n",
              "      <td>...</td>\n",
              "      <td>...</td>\n",
              "      <td>...</td>\n",
              "      <td>...</td>\n",
              "    </tr>\n",
              "    <tr>\n",
              "      <th>541904</th>\n",
              "      <td>2021-12-09 12:50:00</td>\n",
              "      <td>581587</td>\n",
              "      <td>22</td>\n",
              "      <td>MALANG</td>\n",
              "      <td>2211807</td>\n",
              "      <td>KPRI DIAN HUSADA (DINAS KESEHATAN)</td>\n",
              "      <td>JLN SIMPANG LA SUCIPTO NO 45</td>\n",
              "      <td>MALANG</td>\n",
              "      <td>JAWA TIMUR</td>\n",
              "      <td>INDONESIA</td>\n",
              "      <td>45</td>\n",
              "      <td>Koperasi</td>\n",
              "      <td>220109</td>\n",
              "      <td>PT. KOTAK AGRO SUBUR</td>\n",
              "      <td>K0336</td>\n",
              "      <td>8888166603240</td>\n",
              "      <td>KG CHOCO SHORT CAKE 225G</td>\n",
              "      <td>BISKUIT</td>\n",
              "      <td>339696.0</td>\n",
              "      <td>72</td>\n",
              "    </tr>\n",
              "    <tr>\n",
              "      <th>541905</th>\n",
              "      <td>2021-12-09 12:50:00</td>\n",
              "      <td>581587</td>\n",
              "      <td>22</td>\n",
              "      <td>MALANG</td>\n",
              "      <td>2213626</td>\n",
              "      <td>ASSALAM</td>\n",
              "      <td>JLN TELUK BAYUR NO 59</td>\n",
              "      <td>MALANG</td>\n",
              "      <td>JAWA TIMUR</td>\n",
              "      <td>INDONESIA</td>\n",
              "      <td>32</td>\n",
              "      <td>Toko Kelontong</td>\n",
              "      <td>220109</td>\n",
              "      <td>PT. KOTAK AGRO SUBUR</td>\n",
              "      <td>K1923</td>\n",
              "      <td>8888166993044</td>\n",
              "      <td>KG CHOCO WAY FINGER 33G</td>\n",
              "      <td>BISKUIT</td>\n",
              "      <td>113232.0</td>\n",
              "      <td>24</td>\n",
              "    </tr>\n",
              "    <tr>\n",
              "      <th>541906</th>\n",
              "      <td>2021-12-09 12:50:00</td>\n",
              "      <td>581587</td>\n",
              "      <td>22</td>\n",
              "      <td>MALANG</td>\n",
              "      <td>2212127</td>\n",
              "      <td>RAHMA TK</td>\n",
              "      <td>JLN SANAN NO. 1A/14 (BLKG LAPAS)</td>\n",
              "      <td>MALANG</td>\n",
              "      <td>JAWA TIMUR</td>\n",
              "      <td>INDONESIA</td>\n",
              "      <td>32</td>\n",
              "      <td>Toko Kelontong</td>\n",
              "      <td>220109</td>\n",
              "      <td>PT. KOTAK AGRO SUBUR</td>\n",
              "      <td>K0290</td>\n",
              "      <td>8888166336841</td>\n",
              "      <td>KG CISSY 120G CRACKER</td>\n",
              "      <td>BISKUIT</td>\n",
              "      <td>75488.0</td>\n",
              "      <td>16</td>\n",
              "    </tr>\n",
              "    <tr>\n",
              "      <th>541907</th>\n",
              "      <td>2021-12-09 12:50:00</td>\n",
              "      <td>581587</td>\n",
              "      <td>22</td>\n",
              "      <td>MALANG</td>\n",
              "      <td>2213586</td>\n",
              "      <td>KARUNIA</td>\n",
              "      <td>PERUM SUKUN PONDOK INDAH N-9</td>\n",
              "      <td>MALANG</td>\n",
              "      <td>JAWA TIMUR</td>\n",
              "      <td>INDONESIA</td>\n",
              "      <td>32</td>\n",
              "      <td>Toko Kelontong</td>\n",
              "      <td>220109</td>\n",
              "      <td>PT. KOTAK AGRO SUBUR</td>\n",
              "      <td>K3270</td>\n",
              "      <td>8991102023986</td>\n",
              "      <td>KIDDO JUNIOR</td>\n",
              "      <td>PASTA &amp; S-GIGI</td>\n",
              "      <td>113232.0</td>\n",
              "      <td>24</td>\n",
              "    </tr>\n",
              "    <tr>\n",
              "      <th>541908</th>\n",
              "      <td>2021-12-09 12:50:00</td>\n",
              "      <td>581587</td>\n",
              "      <td>22</td>\n",
              "      <td>MALANG</td>\n",
              "      <td>2221494</td>\n",
              "      <td>ALEX</td>\n",
              "      <td>BANJARSAWAH 24 DS PANCORAN</td>\n",
              "      <td>PROBOLINGGO</td>\n",
              "      <td>JAWA TIMUR</td>\n",
              "      <td>INDONESIA</td>\n",
              "      <td>32</td>\n",
              "      <td>Toko Kelontong</td>\n",
              "      <td>220110</td>\n",
              "      <td>PT. SENANTIASA ABADI</td>\n",
              "      <td>K2949</td>\n",
              "      <td>8992942356128</td>\n",
              "      <td>KINO LOLLYPOP COKLAT SUSU 20PC</td>\n",
              "      <td>PERMEN</td>\n",
              "      <td>26958.0</td>\n",
              "      <td>3</td>\n",
              "    </tr>\n",
              "  </tbody>\n",
              "</table>\n",
              "<p>541681 rows × 20 columns</p>\n",
              "</div>"
            ],
            "text/plain": [
              "                   PERIODE INVOINCENO  ...  SALES_TOTAL_RUPIAH SALES_TOTAL_UNIT\n",
              "0      2020-12-01 08:26:00     536365  ...             17652.0                3\n",
              "1      2020-12-01 08:26:00     536365  ...             14154.0                3\n",
              "2      2020-12-01 08:26:00     536365  ...            113232.0               24\n",
              "3      2020-12-01 08:26:00     536365  ...             28308.0                6\n",
              "4      2020-12-01 08:26:00     536365  ...             26958.0                3\n",
              "...                    ...        ...  ...                 ...              ...\n",
              "541904 2021-12-09 12:50:00     581587  ...            339696.0               72\n",
              "541905 2021-12-09 12:50:00     581587  ...            113232.0               24\n",
              "541906 2021-12-09 12:50:00     581587  ...             75488.0               16\n",
              "541907 2021-12-09 12:50:00     581587  ...            113232.0               24\n",
              "541908 2021-12-09 12:50:00     581587  ...             26958.0                3\n",
              "\n",
              "[541681 rows x 20 columns]"
            ]
          },
          "execution_count": 13,
          "metadata": {
            "tags": []
          },
          "output_type": "execute_result"
        }
      ],
      "source": [
        "df"
      ]
    },
    {
      "cell_type": "code",
      "execution_count": null,
      "metadata": {
        "id": "ZimexkHJK-4Q"
      },
      "outputs": [],
      "source": [
        "# mengambil semua transaksi yang terjadi sebelum 09 Desember 2021\n",
        "df = df.loc[df['PERIODE'] < '2021-12-09']"
      ]
    },
    {
      "cell_type": "code",
      "execution_count": null,
      "metadata": {
        "colab": {
          "base_uri": "https://localhost:8080/"
        },
        "id": "Db9eT9R8K-7U",
        "outputId": "0c01ea80-22dc-4eb0-b45a-77256ec0f6f7"
      },
      "outputs": [
        {
          "name": "stderr",
          "output_type": "stream",
          "text": [
            "/usr/local/lib/python3.7/dist-packages/ipykernel_launcher.py:2: SettingWithCopyWarning: \n",
            "A value is trying to be set on a copy of a slice from a DataFrame.\n",
            "Try using .loc[row_indexer,col_indexer] = value instead\n",
            "\n",
            "See the caveats in the documentation: https://pandas.pydata.org/pandas-docs/stable/user_guide/indexing.html#returning-a-view-versus-a-copy\n",
            "  \n"
          ]
        }
      ],
      "source": [
        "# membuat a Sales Revenue Column\n",
        "df['Sales'] = df['SALES_TOTAL_UNIT'] * df['SALES_TOTAL_RUPIAH']"
      ]
    },
    {
      "cell_type": "code",
      "execution_count": null,
      "metadata": {
        "id": "lVGsF1WSK-92"
      },
      "outputs": [],
      "source": [
        "# mendapat order summary dataset yang menunjukkan total penjualan yang dilakukan per faktur pelanggan (customer invoice)\n",
        "orders_df = df.groupby(['CUSTID','INVOINCENO']).agg({'Sales': sum,'PERIODE': max})"
      ]
    },
    {
      "cell_type": "code",
      "execution_count": null,
      "metadata": {
        "colab": {
          "base_uri": "https://localhost:8080/",
          "height": 387
        },
        "id": "ex-_-XHvK_Aq",
        "outputId": "57648c9f-2ebb-4bbf-f722-b3d7db885584"
      },
      "outputs": [
        {
          "data": {
            "text/html": [
              "<div>\n",
              "<style scoped>\n",
              "    .dataframe tbody tr th:only-of-type {\n",
              "        vertical-align: middle;\n",
              "    }\n",
              "\n",
              "    .dataframe tbody tr th {\n",
              "        vertical-align: top;\n",
              "    }\n",
              "\n",
              "    .dataframe thead th {\n",
              "        text-align: right;\n",
              "    }\n",
              "</style>\n",
              "<table border=\"1\" class=\"dataframe\">\n",
              "  <thead>\n",
              "    <tr style=\"text-align: right;\">\n",
              "      <th></th>\n",
              "      <th></th>\n",
              "      <th>Sales</th>\n",
              "      <th>PERIODE</th>\n",
              "    </tr>\n",
              "    <tr>\n",
              "      <th>CUSTID</th>\n",
              "      <th>INVOINCENO</th>\n",
              "      <th></th>\n",
              "      <th></th>\n",
              "    </tr>\n",
              "  </thead>\n",
              "  <tbody>\n",
              "    <tr>\n",
              "      <th rowspan=\"10\" valign=\"top\">1</th>\n",
              "      <th>537237</th>\n",
              "      <td>5.954442e+07</td>\n",
              "      <td>2020-12-06 09:58:00</td>\n",
              "    </tr>\n",
              "    <tr>\n",
              "      <th>537643</th>\n",
              "      <td>2.445811e+09</td>\n",
              "      <td>2020-12-07 15:34:00</td>\n",
              "    </tr>\n",
              "    <tr>\n",
              "      <th>539050</th>\n",
              "      <td>6.793920e+05</td>\n",
              "      <td>2020-12-15 16:21:00</td>\n",
              "    </tr>\n",
              "    <tr>\n",
              "      <th>540026</th>\n",
              "      <td>1.670513e+06</td>\n",
              "      <td>2021-01-04 13:25:00</td>\n",
              "    </tr>\n",
              "    <tr>\n",
              "      <th>540856</th>\n",
              "      <td>2.118240e+07</td>\n",
              "      <td>2021-01-12 10:16:00</td>\n",
              "    </tr>\n",
              "    <tr>\n",
              "      <th>541371</th>\n",
              "      <td>1.246541e+09</td>\n",
              "      <td>2021-01-17 14:51:00</td>\n",
              "    </tr>\n",
              "    <tr>\n",
              "      <th>542607</th>\n",
              "      <td>3.108797e+08</td>\n",
              "      <td>2021-01-30 13:48:00</td>\n",
              "    </tr>\n",
              "    <tr>\n",
              "      <th>545583</th>\n",
              "      <td>5.919760e+07</td>\n",
              "      <td>2021-03-04 09:08:00</td>\n",
              "    </tr>\n",
              "    <tr>\n",
              "      <th>545587</th>\n",
              "      <td>2.445811e+09</td>\n",
              "      <td>2021-03-04 09:46:00</td>\n",
              "    </tr>\n",
              "    <tr>\n",
              "      <th>545663</th>\n",
              "      <td>2.118240e+07</td>\n",
              "      <td>2021-03-04 14:52:00</td>\n",
              "    </tr>\n",
              "  </tbody>\n",
              "</table>\n",
              "</div>"
            ],
            "text/plain": [
              "                          Sales             PERIODE\n",
              "CUSTID INVOINCENO                                  \n",
              "1      537237      5.954442e+07 2020-12-06 09:58:00\n",
              "       537643      2.445811e+09 2020-12-07 15:34:00\n",
              "       539050      6.793920e+05 2020-12-15 16:21:00\n",
              "       540026      1.670513e+06 2021-01-04 13:25:00\n",
              "       540856      2.118240e+07 2021-01-12 10:16:00\n",
              "       541371      1.246541e+09 2021-01-17 14:51:00\n",
              "       542607      3.108797e+08 2021-01-30 13:48:00\n",
              "       545583      5.919760e+07 2021-03-04 09:08:00\n",
              "       545587      2.445811e+09 2021-03-04 09:46:00\n",
              "       545663      2.118240e+07 2021-03-04 14:52:00"
            ]
          },
          "execution_count": 17,
          "metadata": {
            "tags": []
          },
          "output_type": "execute_result"
        }
      ],
      "source": [
        "orders_df.head(10)"
      ]
    },
    {
      "cell_type": "code",
      "execution_count": null,
      "metadata": {
        "colab": {
          "base_uri": "https://localhost:8080/"
        },
        "id": "ni_D7uMySQvJ",
        "outputId": "3dd6207f-80a9-42a3-cbec-ccd312c1cd1b"
      },
      "outputs": [
        {
          "name": "stdout",
          "output_type": "stream",
          "text": [
            "<class 'pandas.core.frame.DataFrame'>\n",
            "MultiIndex: 518978 entries, (1, 537237) to ('999', 561214)\n",
            "Data columns (total 2 columns):\n",
            " #   Column   Non-Null Count   Dtype         \n",
            "---  ------   --------------   -----         \n",
            " 0   Sales    518978 non-null  float64       \n",
            " 1   PERIODE  518978 non-null  datetime64[ns]\n",
            "dtypes: datetime64[ns](1), float64(1)\n",
            "memory usage: 11.4+ MB\n"
          ]
        }
      ],
      "source": [
        "orders_df.info()"
      ]
    },
    {
      "cell_type": "code",
      "execution_count": null,
      "metadata": {
        "id": "VTbfzex_Q34Y"
      },
      "outputs": [],
      "source": [
        "# membuat sebuah simple functions yang dapat kita gunakan untuk membuat our summary dataframe\n",
        "def groupby_mean(x):\n",
        "    return x.mean()\n",
        "\n",
        "def groupby_count(x):\n",
        "    return x.count()\n",
        "\n",
        "def purchase_duration(x):\n",
        "    return (x.max() - x.min()).days\n",
        "\n",
        "def avg_frequency(x):\n",
        "    '''returns the average days between sales'''\n",
        "    return (x.max() - x.min()).days/x.count()\n",
        "\n",
        "groupby_mean.__name__ = 'avg'\n",
        "groupby_count.__name__ = 'count'\n",
        "purchase_duration.__name__ = 'purchase_duration'\n",
        "avg_frequency.__name__ = 'purchase_frequency'\n",
        "\n",
        "summary_df = orders_df.reset_index().groupby('CUSTID').agg({'Sales': [min, max, sum, groupby_mean, groupby_count],\\\n",
        "                                                            'PERIODE': [min, max, purchase_duration, avg_frequency]})"
      ]
    },
    {
      "cell_type": "code",
      "execution_count": null,
      "metadata": {
        "colab": {
          "base_uri": "https://localhost:8080/",
          "height": 586
        },
        "id": "kAf8OPVqSevw",
        "outputId": "099da111-8cad-46bb-d641-4becf4a4fe43"
      },
      "outputs": [
        {
          "data": {
            "text/html": [
              "<div>\n",
              "<style scoped>\n",
              "    .dataframe tbody tr th:only-of-type {\n",
              "        vertical-align: middle;\n",
              "    }\n",
              "\n",
              "    .dataframe tbody tr th {\n",
              "        vertical-align: top;\n",
              "    }\n",
              "\n",
              "    .dataframe thead tr th {\n",
              "        text-align: left;\n",
              "    }\n",
              "\n",
              "    .dataframe thead tr:last-of-type th {\n",
              "        text-align: right;\n",
              "    }\n",
              "</style>\n",
              "<table border=\"1\" class=\"dataframe\">\n",
              "  <thead>\n",
              "    <tr>\n",
              "      <th></th>\n",
              "      <th colspan=\"5\" halign=\"left\">Sales</th>\n",
              "      <th colspan=\"4\" halign=\"left\">PERIODE</th>\n",
              "    </tr>\n",
              "    <tr>\n",
              "      <th></th>\n",
              "      <th>min</th>\n",
              "      <th>max</th>\n",
              "      <th>sum</th>\n",
              "      <th>avg</th>\n",
              "      <th>count</th>\n",
              "      <th>min</th>\n",
              "      <th>max</th>\n",
              "      <th>purchase_duration</th>\n",
              "      <th>purchase_frequency</th>\n",
              "    </tr>\n",
              "    <tr>\n",
              "      <th>CUSTID</th>\n",
              "      <th></th>\n",
              "      <th></th>\n",
              "      <th></th>\n",
              "      <th></th>\n",
              "      <th></th>\n",
              "      <th></th>\n",
              "      <th></th>\n",
              "      <th></th>\n",
              "      <th></th>\n",
              "    </tr>\n",
              "  </thead>\n",
              "  <tbody>\n",
              "    <tr>\n",
              "      <th>1</th>\n",
              "      <td>4.486800e+04</td>\n",
              "      <td>2.496468e+09</td>\n",
              "      <td>2.769352e+10</td>\n",
              "      <td>6.293981e+08</td>\n",
              "      <td>44.0</td>\n",
              "      <td>2020-12-06 09:58:00</td>\n",
              "      <td>2021-11-14 15:22:00</td>\n",
              "      <td>343</td>\n",
              "      <td>7.795455</td>\n",
              "    </tr>\n",
              "    <tr>\n",
              "      <th>2</th>\n",
              "      <td>1.437760e+05</td>\n",
              "      <td>1.921687e+09</td>\n",
              "      <td>1.451866e+10</td>\n",
              "      <td>2.104153e+08</td>\n",
              "      <td>69.0</td>\n",
              "      <td>2020-12-01 09:02:00</td>\n",
              "      <td>2021-11-14 15:27:00</td>\n",
              "      <td>348</td>\n",
              "      <td>5.043478</td>\n",
              "    </tr>\n",
              "    <tr>\n",
              "      <th>3</th>\n",
              "      <td>4.246200e+04</td>\n",
              "      <td>2.717568e+06</td>\n",
              "      <td>1.491034e+07</td>\n",
              "      <td>4.141760e+05</td>\n",
              "      <td>36.0</td>\n",
              "      <td>2020-12-07 15:31:00</td>\n",
              "      <td>2021-11-14 15:27:00</td>\n",
              "      <td>341</td>\n",
              "      <td>9.472222</td>\n",
              "    </tr>\n",
              "    <tr>\n",
              "      <th>4</th>\n",
              "      <td>7.003636e+05</td>\n",
              "      <td>1.087027e+07</td>\n",
              "      <td>6.802309e+07</td>\n",
              "      <td>4.251443e+06</td>\n",
              "      <td>16.0</td>\n",
              "      <td>2020-12-09 14:09:00</td>\n",
              "      <td>2021-11-14 13:55:00</td>\n",
              "      <td>339</td>\n",
              "      <td>21.187500</td>\n",
              "    </tr>\n",
              "    <tr>\n",
              "      <th>5</th>\n",
              "      <td>6.793920e+05</td>\n",
              "      <td>2.717568e+07</td>\n",
              "      <td>1.535743e+08</td>\n",
              "      <td>6.142971e+06</td>\n",
              "      <td>25.0</td>\n",
              "      <td>2020-12-06 09:58:00</td>\n",
              "      <td>2021-11-14 15:19:00</td>\n",
              "      <td>343</td>\n",
              "      <td>13.720000</td>\n",
              "    </tr>\n",
              "    <tr>\n",
              "      <th>6</th>\n",
              "      <td>2.179730e+05</td>\n",
              "      <td>1.087027e+07</td>\n",
              "      <td>1.898057e+08</td>\n",
              "      <td>4.126210e+06</td>\n",
              "      <td>46.0</td>\n",
              "      <td>2020-12-06 09:58:00</td>\n",
              "      <td>2021-11-14 14:24:00</td>\n",
              "      <td>343</td>\n",
              "      <td>7.456522</td>\n",
              "    </tr>\n",
              "    <tr>\n",
              "      <th>7</th>\n",
              "      <td>3.558480e+05</td>\n",
              "      <td>7.003636e+07</td>\n",
              "      <td>3.661885e+08</td>\n",
              "      <td>2.288678e+07</td>\n",
              "      <td>16.0</td>\n",
              "      <td>2020-12-01 09:53:00</td>\n",
              "      <td>2021-09-18 11:58:00</td>\n",
              "      <td>291</td>\n",
              "      <td>18.187500</td>\n",
              "    </tr>\n",
              "    <tr>\n",
              "      <th>8</th>\n",
              "      <td>1.887200e+04</td>\n",
              "      <td>1.087027e+07</td>\n",
              "      <td>5.586112e+07</td>\n",
              "      <td>2.327547e+06</td>\n",
              "      <td>24.0</td>\n",
              "      <td>2020-12-01 17:06:00</td>\n",
              "      <td>2021-11-14 15:22:00</td>\n",
              "      <td>347</td>\n",
              "      <td>14.458333</td>\n",
              "    </tr>\n",
              "    <tr>\n",
              "      <th>9</th>\n",
              "      <td>1.293984e+06</td>\n",
              "      <td>7.232073e+07</td>\n",
              "      <td>6.024977e+08</td>\n",
              "      <td>2.510407e+07</td>\n",
              "      <td>24.0</td>\n",
              "      <td>2020-12-06 09:58:00</td>\n",
              "      <td>2021-11-14 15:22:00</td>\n",
              "      <td>343</td>\n",
              "      <td>14.291667</td>\n",
              "    </tr>\n",
              "    <tr>\n",
              "      <th>10</th>\n",
              "      <td>2.179730e+05</td>\n",
              "      <td>2.717568e+06</td>\n",
              "      <td>1.174216e+07</td>\n",
              "      <td>1.677452e+06</td>\n",
              "      <td>7.0</td>\n",
              "      <td>2020-12-12 13:32:00</td>\n",
              "      <td>2021-08-22 12:46:00</td>\n",
              "      <td>252</td>\n",
              "      <td>36.000000</td>\n",
              "    </tr>\n",
              "  </tbody>\n",
              "</table>\n",
              "</div>"
            ],
            "text/plain": [
              "               Sales                ...           PERIODE                   \n",
              "                 min           max  ... purchase_duration purchase_frequency\n",
              "CUSTID                              ...                                     \n",
              "1       4.486800e+04  2.496468e+09  ...               343           7.795455\n",
              "2       1.437760e+05  1.921687e+09  ...               348           5.043478\n",
              "3       4.246200e+04  2.717568e+06  ...               341           9.472222\n",
              "4       7.003636e+05  1.087027e+07  ...               339          21.187500\n",
              "5       6.793920e+05  2.717568e+07  ...               343          13.720000\n",
              "6       2.179730e+05  1.087027e+07  ...               343           7.456522\n",
              "7       3.558480e+05  7.003636e+07  ...               291          18.187500\n",
              "8       1.887200e+04  1.087027e+07  ...               347          14.458333\n",
              "9       1.293984e+06  7.232073e+07  ...               343          14.291667\n",
              "10      2.179730e+05  2.717568e+06  ...               252          36.000000\n",
              "\n",
              "[10 rows x 9 columns]"
            ]
          },
          "execution_count": 20,
          "metadata": {
            "tags": []
          },
          "output_type": "execute_result"
        }
      ],
      "source": [
        "summary_df.head(10)"
      ]
    },
    {
      "cell_type": "markdown",
      "metadata": {
        "id": "vy7uLfNgRgl4"
      },
      "source": [
        "<br>"
      ]
    },
    {
      "cell_type": "code",
      "execution_count": null,
      "metadata": {
        "id": "yqPqS_aYQ4Dh"
      },
      "outputs": [],
      "source": [
        "# Rename our columns by combinng it with the top row\n",
        "summary_df.columns = ['_'.join(col).lower() for col in summary_df.columns]"
      ]
    },
    {
      "cell_type": "code",
      "execution_count": null,
      "metadata": {
        "colab": {
          "base_uri": "https://localhost:8080/",
          "height": 338
        },
        "id": "XFSejPblK_DP",
        "outputId": "3632a2bd-c045-468b-ead3-79624c19848a"
      },
      "outputs": [
        {
          "data": {
            "text/html": [
              "<div>\n",
              "<style scoped>\n",
              "    .dataframe tbody tr th:only-of-type {\n",
              "        vertical-align: middle;\n",
              "    }\n",
              "\n",
              "    .dataframe tbody tr th {\n",
              "        vertical-align: top;\n",
              "    }\n",
              "\n",
              "    .dataframe thead th {\n",
              "        text-align: right;\n",
              "    }\n",
              "</style>\n",
              "<table border=\"1\" class=\"dataframe\">\n",
              "  <thead>\n",
              "    <tr style=\"text-align: right;\">\n",
              "      <th></th>\n",
              "      <th>sales_min</th>\n",
              "      <th>sales_max</th>\n",
              "      <th>sales_sum</th>\n",
              "      <th>sales_avg</th>\n",
              "      <th>sales_count</th>\n",
              "      <th>periode_min</th>\n",
              "      <th>periode_max</th>\n",
              "      <th>periode_purchase_duration</th>\n",
              "      <th>periode_purchase_frequency</th>\n",
              "    </tr>\n",
              "    <tr>\n",
              "      <th>CUSTID</th>\n",
              "      <th></th>\n",
              "      <th></th>\n",
              "      <th></th>\n",
              "      <th></th>\n",
              "      <th></th>\n",
              "      <th></th>\n",
              "      <th></th>\n",
              "      <th></th>\n",
              "      <th></th>\n",
              "    </tr>\n",
              "  </thead>\n",
              "  <tbody>\n",
              "    <tr>\n",
              "      <th>1</th>\n",
              "      <td>44868.0000</td>\n",
              "      <td>2.496468e+09</td>\n",
              "      <td>2.769352e+10</td>\n",
              "      <td>6.293981e+08</td>\n",
              "      <td>44.0</td>\n",
              "      <td>2020-12-06 09:58:00</td>\n",
              "      <td>2021-11-14 15:22:00</td>\n",
              "      <td>343</td>\n",
              "      <td>7.795455</td>\n",
              "    </tr>\n",
              "    <tr>\n",
              "      <th>2</th>\n",
              "      <td>143776.0000</td>\n",
              "      <td>1.921687e+09</td>\n",
              "      <td>1.451866e+10</td>\n",
              "      <td>2.104153e+08</td>\n",
              "      <td>69.0</td>\n",
              "      <td>2020-12-01 09:02:00</td>\n",
              "      <td>2021-11-14 15:27:00</td>\n",
              "      <td>348</td>\n",
              "      <td>5.043478</td>\n",
              "    </tr>\n",
              "    <tr>\n",
              "      <th>3</th>\n",
              "      <td>42462.0000</td>\n",
              "      <td>2.717568e+06</td>\n",
              "      <td>1.491034e+07</td>\n",
              "      <td>4.141760e+05</td>\n",
              "      <td>36.0</td>\n",
              "      <td>2020-12-07 15:31:00</td>\n",
              "      <td>2021-11-14 15:27:00</td>\n",
              "      <td>341</td>\n",
              "      <td>9.472222</td>\n",
              "    </tr>\n",
              "    <tr>\n",
              "      <th>4</th>\n",
              "      <td>700363.6368</td>\n",
              "      <td>1.087027e+07</td>\n",
              "      <td>6.802309e+07</td>\n",
              "      <td>4.251443e+06</td>\n",
              "      <td>16.0</td>\n",
              "      <td>2020-12-09 14:09:00</td>\n",
              "      <td>2021-11-14 13:55:00</td>\n",
              "      <td>339</td>\n",
              "      <td>21.187500</td>\n",
              "    </tr>\n",
              "    <tr>\n",
              "      <th>5</th>\n",
              "      <td>679392.0000</td>\n",
              "      <td>2.717568e+07</td>\n",
              "      <td>1.535743e+08</td>\n",
              "      <td>6.142971e+06</td>\n",
              "      <td>25.0</td>\n",
              "      <td>2020-12-06 09:58:00</td>\n",
              "      <td>2021-11-14 15:19:00</td>\n",
              "      <td>343</td>\n",
              "      <td>13.720000</td>\n",
              "    </tr>\n",
              "  </tbody>\n",
              "</table>\n",
              "</div>"
            ],
            "text/plain": [
              "          sales_min  ...  periode_purchase_frequency\n",
              "CUSTID               ...                            \n",
              "1        44868.0000  ...                    7.795455\n",
              "2       143776.0000  ...                    5.043478\n",
              "3        42462.0000  ...                    9.472222\n",
              "4       700363.6368  ...                   21.187500\n",
              "5       679392.0000  ...                   13.720000\n",
              "\n",
              "[5 rows x 9 columns]"
            ]
          },
          "execution_count": 22,
          "metadata": {
            "tags": []
          },
          "output_type": "execute_result"
        }
      ],
      "source": [
        "summary_df.head()"
      ]
    },
    {
      "cell_type": "markdown",
      "metadata": {
        "id": "1OOy52NjK_GE"
      },
      "source": [
        "## Visualization "
      ]
    },
    {
      "cell_type": "code",
      "execution_count": null,
      "metadata": {
        "colab": {
          "base_uri": "https://localhost:8080/"
        },
        "id": "Fnxfr0qxK_Im",
        "outputId": "a5e35474-ac83-4a4a-8196-5d36b2124975"
      },
      "outputs": [
        {
          "data": {
            "text/plain": [
              "sales_count\n",
              "3.0        15\n",
              "4.0      6836\n",
              "5.0        26\n",
              "6.0       174\n",
              "7.0       522\n",
              "8.0     10124\n",
              "9.0        61\n",
              "10.0      108\n",
              "11.0      199\n",
              "12.0     2784\n",
              "13.0      279\n",
              "14.0      712\n",
              "15.0      550\n",
              "16.0     4717\n",
              "17.0       72\n",
              "18.0       97\n",
              "19.0      194\n",
              "20.0      759\n",
              "Name: sales_avg, dtype: int64"
            ]
          },
          "execution_count": 23,
          "metadata": {
            "tags": []
          },
          "output_type": "execute_result"
        }
      ],
      "source": [
        "# Let's look at the first 20 sales counts and the average spend for that sale\n",
        "\n",
        "# We firstly group by Sales_Counts and then look at the sales_avg \n",
        "summary_df.groupby('sales_count').count()['sales_avg'][:20]"
      ]
    },
    {
      "cell_type": "code",
      "execution_count": null,
      "metadata": {
        "colab": {
          "base_uri": "https://localhost:8080/",
          "height": 635
        },
        "id": "l0UYTz6zK_Lj",
        "outputId": "49fa6b6d-da67-4b5d-dfed-25e419ce01e9"
      },
      "outputs": [
        {
          "data": {
            "text/html": [
              "<div>\n",
              "<style scoped>\n",
              "    .dataframe tbody tr th:only-of-type {\n",
              "        vertical-align: middle;\n",
              "    }\n",
              "\n",
              "    .dataframe tbody tr th {\n",
              "        vertical-align: top;\n",
              "    }\n",
              "\n",
              "    .dataframe thead th {\n",
              "        text-align: right;\n",
              "    }\n",
              "</style>\n",
              "<table border=\"1\" class=\"dataframe\">\n",
              "  <thead>\n",
              "    <tr style=\"text-align: right;\">\n",
              "      <th></th>\n",
              "      <th>sales_min</th>\n",
              "      <th>sales_max</th>\n",
              "      <th>sales_sum</th>\n",
              "      <th>sales_avg</th>\n",
              "      <th>sales_count</th>\n",
              "      <th>periode_min</th>\n",
              "      <th>periode_max</th>\n",
              "      <th>periode_purchase_duration</th>\n",
              "      <th>periode_purchase_frequency</th>\n",
              "    </tr>\n",
              "    <tr>\n",
              "      <th>CUSTID</th>\n",
              "      <th></th>\n",
              "      <th></th>\n",
              "      <th></th>\n",
              "      <th></th>\n",
              "      <th></th>\n",
              "      <th></th>\n",
              "      <th></th>\n",
              "      <th></th>\n",
              "      <th></th>\n",
              "    </tr>\n",
              "  </thead>\n",
              "  <tbody>\n",
              "    <tr>\n",
              "      <th>1</th>\n",
              "      <td>4.486800e+04</td>\n",
              "      <td>2.496468e+09</td>\n",
              "      <td>2.769352e+10</td>\n",
              "      <td>6.293981e+08</td>\n",
              "      <td>44.0</td>\n",
              "      <td>2020-12-06 09:58:00</td>\n",
              "      <td>2021-11-14 15:22:00</td>\n",
              "      <td>343</td>\n",
              "      <td>7.795455</td>\n",
              "    </tr>\n",
              "    <tr>\n",
              "      <th>2</th>\n",
              "      <td>1.437760e+05</td>\n",
              "      <td>1.921687e+09</td>\n",
              "      <td>1.451866e+10</td>\n",
              "      <td>2.104153e+08</td>\n",
              "      <td>69.0</td>\n",
              "      <td>2020-12-01 09:02:00</td>\n",
              "      <td>2021-11-14 15:27:00</td>\n",
              "      <td>348</td>\n",
              "      <td>5.043478</td>\n",
              "    </tr>\n",
              "    <tr>\n",
              "      <th>3</th>\n",
              "      <td>4.246200e+04</td>\n",
              "      <td>2.717568e+06</td>\n",
              "      <td>1.491034e+07</td>\n",
              "      <td>4.141760e+05</td>\n",
              "      <td>36.0</td>\n",
              "      <td>2020-12-07 15:31:00</td>\n",
              "      <td>2021-11-14 15:27:00</td>\n",
              "      <td>341</td>\n",
              "      <td>9.472222</td>\n",
              "    </tr>\n",
              "    <tr>\n",
              "      <th>4</th>\n",
              "      <td>7.003636e+05</td>\n",
              "      <td>1.087027e+07</td>\n",
              "      <td>6.802309e+07</td>\n",
              "      <td>4.251443e+06</td>\n",
              "      <td>16.0</td>\n",
              "      <td>2020-12-09 14:09:00</td>\n",
              "      <td>2021-11-14 13:55:00</td>\n",
              "      <td>339</td>\n",
              "      <td>21.187500</td>\n",
              "    </tr>\n",
              "    <tr>\n",
              "      <th>5</th>\n",
              "      <td>6.793920e+05</td>\n",
              "      <td>2.717568e+07</td>\n",
              "      <td>1.535743e+08</td>\n",
              "      <td>6.142971e+06</td>\n",
              "      <td>25.0</td>\n",
              "      <td>2020-12-06 09:58:00</td>\n",
              "      <td>2021-11-14 15:19:00</td>\n",
              "      <td>343</td>\n",
              "      <td>13.720000</td>\n",
              "    </tr>\n",
              "    <tr>\n",
              "      <th>...</th>\n",
              "      <td>...</td>\n",
              "      <td>...</td>\n",
              "      <td>...</td>\n",
              "      <td>...</td>\n",
              "      <td>...</td>\n",
              "      <td>...</td>\n",
              "      <td>...</td>\n",
              "      <td>...</td>\n",
              "      <td>...</td>\n",
              "    </tr>\n",
              "    <tr>\n",
              "      <th>9850</th>\n",
              "      <td>2.717568e+06</td>\n",
              "      <td>2.717568e+06</td>\n",
              "      <td>1.087027e+07</td>\n",
              "      <td>2.717568e+06</td>\n",
              "      <td>4.0</td>\n",
              "      <td>2021-01-07 13:55:00</td>\n",
              "      <td>2021-07-25 17:00:00</td>\n",
              "      <td>199</td>\n",
              "      <td>49.750000</td>\n",
              "    </tr>\n",
              "    <tr>\n",
              "      <th>9871</th>\n",
              "      <td>2.717568e+08</td>\n",
              "      <td>2.717568e+08</td>\n",
              "      <td>1.087027e+09</td>\n",
              "      <td>2.717568e+08</td>\n",
              "      <td>4.0</td>\n",
              "      <td>2020-12-01 17:06:00</td>\n",
              "      <td>2021-07-25 13:45:00</td>\n",
              "      <td>235</td>\n",
              "      <td>58.750000</td>\n",
              "    </tr>\n",
              "    <tr>\n",
              "      <th>9895</th>\n",
              "      <td>1.293984e+06</td>\n",
              "      <td>2.717568e+06</td>\n",
              "      <td>2.491661e+07</td>\n",
              "      <td>2.076384e+06</td>\n",
              "      <td>12.0</td>\n",
              "      <td>2020-12-01 17:06:00</td>\n",
              "      <td>2021-07-25 17:09:00</td>\n",
              "      <td>236</td>\n",
              "      <td>19.666667</td>\n",
              "    </tr>\n",
              "    <tr>\n",
              "      <th>997</th>\n",
              "      <td>1.764806e+08</td>\n",
              "      <td>1.764806e+08</td>\n",
              "      <td>7.059226e+08</td>\n",
              "      <td>1.764806e+08</td>\n",
              "      <td>4.0</td>\n",
              "      <td>2021-02-09 16:52:00</td>\n",
              "      <td>2021-07-26 10:13:00</td>\n",
              "      <td>166</td>\n",
              "      <td>41.500000</td>\n",
              "    </tr>\n",
              "    <tr>\n",
              "      <th>999</th>\n",
              "      <td>5.175936e+06</td>\n",
              "      <td>1.087027e+07</td>\n",
              "      <td>8.551066e+07</td>\n",
              "      <td>7.773696e+06</td>\n",
              "      <td>11.0</td>\n",
              "      <td>2020-12-19 14:24:00</td>\n",
              "      <td>2021-07-25 17:00:00</td>\n",
              "      <td>218</td>\n",
              "      <td>19.818182</td>\n",
              "    </tr>\n",
              "  </tbody>\n",
              "</table>\n",
              "<p>35749 rows × 9 columns</p>\n",
              "</div>"
            ],
            "text/plain": [
              "           sales_min  ...  periode_purchase_frequency\n",
              "CUSTID                ...                            \n",
              "1       4.486800e+04  ...                    7.795455\n",
              "2       1.437760e+05  ...                    5.043478\n",
              "3       4.246200e+04  ...                    9.472222\n",
              "4       7.003636e+05  ...                   21.187500\n",
              "5       6.793920e+05  ...                   13.720000\n",
              "...              ...  ...                         ...\n",
              "9850    2.717568e+06  ...                   49.750000\n",
              "9871    2.717568e+08  ...                   58.750000\n",
              "9895    1.293984e+06  ...                   19.666667\n",
              "997     1.764806e+08  ...                   41.500000\n",
              "999     5.175936e+06  ...                   19.818182\n",
              "\n",
              "[35749 rows x 9 columns]"
            ]
          },
          "execution_count": 24,
          "metadata": {
            "tags": []
          },
          "output_type": "execute_result"
        }
      ],
      "source": [
        "# summary_df = summary_df.loc[summary_df['invoicedate_purchase_duration'] > 0]\n",
        "summary_df = summary_df.loc[summary_df['periode_purchase_frequency'] > 0]\n",
        "summary_df"
      ]
    },
    {
      "cell_type": "markdown",
      "metadata": {
        "id": "1C9scOS7w2DP"
      },
      "source": [
        "Karena kami mencoba untuk mendapatkan waktu antara penjualan (diplot di sel berikutnya). Kita perlu menghilangkan pembelian tunggal. Itulah yang dilakukan baris ini.\n",
        "\n",
        "`summary_df = ringkasan_df.loc[summary_df['invoicedate_purchase_duration'] > 0]`\n",
        "\n",
        "Durasi pembelian yang sama dengan 0 menunjukkan bahwa hanya pembelian yang pernah dilakukan."
      ]
    },
    {
      "cell_type": "code",
      "execution_count": null,
      "metadata": {
        "colab": {
          "base_uri": "https://localhost:8080/",
          "height": 456
        },
        "id": "fTnucyCwK_OG",
        "outputId": "a8921dbb-be71-44fd-bec4-c2b0a312d593"
      },
      "outputs": [
        {
          "data": {
            "image/png": "[encoded data removed]",
            "text/plain": [
              "<Figure size 864x504 with 1 Axes>"
            ]
          },
          "metadata": {
            "needs_background": "light",
            "tags": []
          },
          "output_type": "display_data"
        }
      ],
      "source": [
        "# We filter on invoicedate_purchase_duration greater than 0\n",
        "summary_df = summary_df.loc[summary_df['periode_purchase_frequency'] >= 0]\n",
        "\n",
        "ax = summary_df.groupby('sales_count').count()['sales_avg'][:20].plot(kind='bar', color='skyblue',figsize=(12,7), grid=True)\n",
        "\n",
        "ax.set_ylabel('count')\n",
        "\n",
        "plt.show()"
      ]
    },
    {
      "cell_type": "code",
      "execution_count": null,
      "metadata": {
        "colab": {
          "base_uri": "https://localhost:8080/",
          "height": 441
        },
        "id": "4DRbGiFDK_RO",
        "outputId": "15c6c9a3-0421-4d8f-b217-f18b7c16bc7a"
      },
      "outputs": [
        {
          "data": {
            "image/png": "[encoded data removed]",
            "text/plain": [
              "<Figure size 864x504 with 1 Axes>"
            ]
          },
          "metadata": {
            "needs_background": "light",
            "tags": []
          },
          "output_type": "display_data"
        }
      ],
      "source": [
        "# Now we create a distribution for the average times between sales\n",
        "ax = summary_df['periode_purchase_frequency'].hist(bins=20, color='skyblue', rwidth=0.7, figsize=(12,7))\n",
        "\n",
        "ax.set_xlabel('avg. number of days between purchases')\n",
        "ax.set_ylabel('count')\n",
        "\n",
        "plt.show()"
      ]
    },
    {
      "cell_type": "markdown",
      "metadata": {
        "id": "FIPlldH0xB2W"
      },
      "source": [
        "# Predicting the 3 month Customer Lifetime Value"
      ]
    },
    {
      "cell_type": "code",
      "execution_count": null,
      "metadata": {
        "colab": {
          "base_uri": "https://localhost:8080/",
          "height": 234
        },
        "id": "uf_SAqPsw_Sq",
        "outputId": "ead6f308-2f4f-4b14-a65c-2956dbf4bb7d"
      },
      "outputs": [
        {
          "data": {
            "text/html": [
              "<div>\n",
              "<style scoped>\n",
              "    .dataframe tbody tr th:only-of-type {\n",
              "        vertical-align: middle;\n",
              "    }\n",
              "\n",
              "    .dataframe tbody tr th {\n",
              "        vertical-align: top;\n",
              "    }\n",
              "\n",
              "    .dataframe thead th {\n",
              "        text-align: right;\n",
              "    }\n",
              "</style>\n",
              "<table border=\"1\" class=\"dataframe\">\n",
              "  <thead>\n",
              "    <tr style=\"text-align: right;\">\n",
              "      <th></th>\n",
              "      <th></th>\n",
              "      <th>Sales</th>\n",
              "      <th>PERIODE</th>\n",
              "    </tr>\n",
              "    <tr>\n",
              "      <th>CUSTID</th>\n",
              "      <th>INVOINCENO</th>\n",
              "      <th></th>\n",
              "      <th></th>\n",
              "    </tr>\n",
              "  </thead>\n",
              "  <tbody>\n",
              "    <tr>\n",
              "      <th rowspan=\"5\" valign=\"top\">1</th>\n",
              "      <th>537237</th>\n",
              "      <td>5.954442e+07</td>\n",
              "      <td>2020-12-06 09:58:00</td>\n",
              "    </tr>\n",
              "    <tr>\n",
              "      <th>537643</th>\n",
              "      <td>2.445811e+09</td>\n",
              "      <td>2020-12-07 15:34:00</td>\n",
              "    </tr>\n",
              "    <tr>\n",
              "      <th>539050</th>\n",
              "      <td>6.793920e+05</td>\n",
              "      <td>2020-12-15 16:21:00</td>\n",
              "    </tr>\n",
              "    <tr>\n",
              "      <th>540026</th>\n",
              "      <td>1.670513e+06</td>\n",
              "      <td>2021-01-04 13:25:00</td>\n",
              "    </tr>\n",
              "    <tr>\n",
              "      <th>540856</th>\n",
              "      <td>2.118240e+07</td>\n",
              "      <td>2021-01-12 10:16:00</td>\n",
              "    </tr>\n",
              "  </tbody>\n",
              "</table>\n",
              "</div>"
            ],
            "text/plain": [
              "                          Sales             PERIODE\n",
              "CUSTID INVOINCENO                                  \n",
              "1      537237      5.954442e+07 2020-12-06 09:58:00\n",
              "       537643      2.445811e+09 2020-12-07 15:34:00\n",
              "       539050      6.793920e+05 2020-12-15 16:21:00\n",
              "       540026      1.670513e+06 2021-01-04 13:25:00\n",
              "       540856      2.118240e+07 2021-01-12 10:16:00"
            ]
          },
          "execution_count": 27,
          "metadata": {
            "tags": []
          },
          "output_type": "execute_result"
        }
      ],
      "source": [
        "orders_df.head()"
      ]
    },
    {
      "cell_type": "code",
      "execution_count": null,
      "metadata": {
        "colab": {
          "base_uri": "https://localhost:8080/",
          "height": 202
        },
        "id": "PQKa_Ij7w_VH",
        "outputId": "dc3c6540-e9e4-45ef-e55e-92910b791068"
      },
      "outputs": [
        {
          "data": {
            "text/html": [
              "<div>\n",
              "<style scoped>\n",
              "    .dataframe tbody tr th:only-of-type {\n",
              "        vertical-align: middle;\n",
              "    }\n",
              "\n",
              "    .dataframe tbody tr th {\n",
              "        vertical-align: top;\n",
              "    }\n",
              "\n",
              "    .dataframe thead th {\n",
              "        text-align: right;\n",
              "    }\n",
              "</style>\n",
              "<table border=\"1\" class=\"dataframe\">\n",
              "  <thead>\n",
              "    <tr style=\"text-align: right;\">\n",
              "      <th></th>\n",
              "      <th>CUSTID</th>\n",
              "      <th>PERIODE</th>\n",
              "      <th>sales_sum</th>\n",
              "      <th>sales_avg</th>\n",
              "      <th>sales_count</th>\n",
              "    </tr>\n",
              "  </thead>\n",
              "  <tbody>\n",
              "    <tr>\n",
              "      <th>0</th>\n",
              "      <td>1</td>\n",
              "      <td>2020-12-31</td>\n",
              "      <td>2.506035e+09</td>\n",
              "      <td>8.353450e+08</td>\n",
              "      <td>3.0</td>\n",
              "    </tr>\n",
              "    <tr>\n",
              "      <th>1</th>\n",
              "      <td>1</td>\n",
              "      <td>2021-03-31</td>\n",
              "      <td>5.665601e+09</td>\n",
              "      <td>5.665601e+08</td>\n",
              "      <td>10.0</td>\n",
              "    </tr>\n",
              "    <tr>\n",
              "      <th>2</th>\n",
              "      <td>1</td>\n",
              "      <td>2021-06-30</td>\n",
              "      <td>5.675123e+09</td>\n",
              "      <td>5.675123e+08</td>\n",
              "      <td>10.0</td>\n",
              "    </tr>\n",
              "    <tr>\n",
              "      <th>3</th>\n",
              "      <td>1</td>\n",
              "      <td>2021-09-30</td>\n",
              "      <td>2.498475e+09</td>\n",
              "      <td>4.164125e+08</td>\n",
              "      <td>6.0</td>\n",
              "    </tr>\n",
              "    <tr>\n",
              "      <th>4</th>\n",
              "      <td>1</td>\n",
              "      <td>2021-12-31</td>\n",
              "      <td>1.134828e+10</td>\n",
              "      <td>7.565522e+08</td>\n",
              "      <td>15.0</td>\n",
              "    </tr>\n",
              "  </tbody>\n",
              "</table>\n",
              "</div>"
            ],
            "text/plain": [
              "  CUSTID    PERIODE     sales_sum     sales_avg  sales_count\n",
              "0      1 2020-12-31  2.506035e+09  8.353450e+08          3.0\n",
              "1      1 2021-03-31  5.665601e+09  5.665601e+08         10.0\n",
              "2      1 2021-06-30  5.675123e+09  5.675123e+08         10.0\n",
              "3      1 2021-09-30  2.498475e+09  4.164125e+08          6.0\n",
              "4      1 2021-12-31  1.134828e+10  7.565522e+08         15.0"
            ]
          },
          "execution_count": 28,
          "metadata": {
            "tags": []
          },
          "output_type": "execute_result"
        }
      ],
      "source": [
        "# Create summary statistics in 3 month intervals for customer Sales\n",
        "\n",
        "# Use 3M for 3 month\n",
        "clv_freq = '3M'\n",
        "\n",
        "# Groupby customer ID now, and group all invoices for 3 month cycles.\n",
        "# Aggregate on sum, mean and counts\n",
        "data_df = orders_df.reset_index().groupby(['CUSTID', pd.Grouper(key='PERIODE', freq=clv_freq)]).agg({\n",
        "    'Sales': [sum, groupby_mean, groupby_count],})\n",
        "\n",
        "data_df.columns = ['_'.join(col).lower() for col in data_df.columns]\n",
        "data_df = data_df.reset_index()\n",
        "data_df.head()"
      ]
    },
    {
      "cell_type": "code",
      "execution_count": null,
      "metadata": {
        "colab": {
          "base_uri": "https://localhost:8080/",
          "height": 202
        },
        "id": "vE3PGtKTw_YW",
        "outputId": "330f3c56-1245-46f5-9db5-a2f9158f58c1"
      },
      "outputs": [
        {
          "data": {
            "text/html": [
              "<div>\n",
              "<style scoped>\n",
              "    .dataframe tbody tr th:only-of-type {\n",
              "        vertical-align: middle;\n",
              "    }\n",
              "\n",
              "    .dataframe tbody tr th {\n",
              "        vertical-align: top;\n",
              "    }\n",
              "\n",
              "    .dataframe thead th {\n",
              "        text-align: right;\n",
              "    }\n",
              "</style>\n",
              "<table border=\"1\" class=\"dataframe\">\n",
              "  <thead>\n",
              "    <tr style=\"text-align: right;\">\n",
              "      <th></th>\n",
              "      <th>CUSTID</th>\n",
              "      <th>PERIODE</th>\n",
              "      <th>sales_sum</th>\n",
              "      <th>sales_avg</th>\n",
              "      <th>sales_count</th>\n",
              "      <th>M</th>\n",
              "    </tr>\n",
              "  </thead>\n",
              "  <tbody>\n",
              "    <tr>\n",
              "      <th>0</th>\n",
              "      <td>1</td>\n",
              "      <td>2020-12-31</td>\n",
              "      <td>2.506035e+09</td>\n",
              "      <td>8.353450e+08</td>\n",
              "      <td>3.0</td>\n",
              "      <td>M_5</td>\n",
              "    </tr>\n",
              "    <tr>\n",
              "      <th>1</th>\n",
              "      <td>1</td>\n",
              "      <td>2021-03-31</td>\n",
              "      <td>5.665601e+09</td>\n",
              "      <td>5.665601e+08</td>\n",
              "      <td>10.0</td>\n",
              "      <td>M_4</td>\n",
              "    </tr>\n",
              "    <tr>\n",
              "      <th>2</th>\n",
              "      <td>1</td>\n",
              "      <td>2021-06-30</td>\n",
              "      <td>5.675123e+09</td>\n",
              "      <td>5.675123e+08</td>\n",
              "      <td>10.0</td>\n",
              "      <td>M_3</td>\n",
              "    </tr>\n",
              "    <tr>\n",
              "      <th>3</th>\n",
              "      <td>1</td>\n",
              "      <td>2021-09-30</td>\n",
              "      <td>2.498475e+09</td>\n",
              "      <td>4.164125e+08</td>\n",
              "      <td>6.0</td>\n",
              "      <td>M_2</td>\n",
              "    </tr>\n",
              "    <tr>\n",
              "      <th>4</th>\n",
              "      <td>1</td>\n",
              "      <td>2021-12-31</td>\n",
              "      <td>1.134828e+10</td>\n",
              "      <td>7.565522e+08</td>\n",
              "      <td>15.0</td>\n",
              "      <td>M_1</td>\n",
              "    </tr>\n",
              "  </tbody>\n",
              "</table>\n",
              "</div>"
            ],
            "text/plain": [
              "  CUSTID    PERIODE     sales_sum     sales_avg  sales_count    M\n",
              "0      1 2020-12-31  2.506035e+09  8.353450e+08          3.0  M_5\n",
              "1      1 2021-03-31  5.665601e+09  5.665601e+08         10.0  M_4\n",
              "2      1 2021-06-30  5.675123e+09  5.675123e+08         10.0  M_3\n",
              "3      1 2021-09-30  2.498475e+09  4.164125e+08          6.0  M_2\n",
              "4      1 2021-12-31  1.134828e+10  7.565522e+08         15.0  M_1"
            ]
          },
          "execution_count": 29,
          "metadata": {
            "tags": []
          },
          "output_type": "execute_result"
        }
      ],
      "source": [
        "# Adding Recency 'M'\n",
        "\n",
        "# Get the M\n",
        "date_month_map = {str(x)[:10]: 'M_%s' % (i+1) for i, x in enumerate(sorted(data_df.reset_index()['PERIODE'].unique(), reverse=True))}\n",
        "\n",
        "# Create our M Column\n",
        "data_df['M'] = data_df['PERIODE'].apply(lambda x: date_month_map[str(x)[:10]])\n",
        "data_df.head()"
      ]
    },
    {
      "cell_type": "code",
      "execution_count": null,
      "metadata": {
        "colab": {
          "base_uri": "https://localhost:8080/"
        },
        "id": "hAHqn8Nnw_an",
        "outputId": "31ab3adf-1563-4035-c9c4-dbd3869ef5d0"
      },
      "outputs": [
        {
          "data": {
            "text/plain": [
              "array(['M_5', 'M_4', 'M_3', 'M_2', 'M_1'], dtype=object)"
            ]
          },
          "execution_count": 30,
          "metadata": {
            "tags": []
          },
          "output_type": "execute_result"
        }
      ],
      "source": [
        "data_df['M'].unique()"
      ]
    },
    {
      "cell_type": "markdown",
      "metadata": {
        "id": "cW2F7PM88waJ"
      },
      "source": [
        "**RFM**\n",
        "\n",
        "By definition, RFM represents:\n",
        "\n",
        "- R(ecency): how recently did customer purchase?\n",
        "- F(rquency): how often do customer purchase?\n",
        "- M(onetary Value): how much do they spend (each time on average)?"
      ]
    },
    {
      "cell_type": "code",
      "execution_count": null,
      "metadata": {
        "colab": {
          "base_uri": "https://localhost:8080/",
          "height": 254
        },
        "id": "Lm3mUCckw_dZ",
        "outputId": "1d1bc42e-19df-4390-9bc8-e0aa1878923d"
      },
      "outputs": [
        {
          "data": {
            "text/html": [
              "<div>\n",
              "<style scoped>\n",
              "    .dataframe tbody tr th:only-of-type {\n",
              "        vertical-align: middle;\n",
              "    }\n",
              "\n",
              "    .dataframe tbody tr th {\n",
              "        vertical-align: top;\n",
              "    }\n",
              "\n",
              "    .dataframe thead th {\n",
              "        text-align: right;\n",
              "    }\n",
              "</style>\n",
              "<table border=\"1\" class=\"dataframe\">\n",
              "  <thead>\n",
              "    <tr style=\"text-align: right;\">\n",
              "      <th></th>\n",
              "      <th>sales_avg_M_2</th>\n",
              "      <th>sales_avg_M_3</th>\n",
              "      <th>sales_avg_M_4</th>\n",
              "      <th>sales_avg_M_5</th>\n",
              "      <th>sales_count_M_2</th>\n",
              "      <th>sales_count_M_3</th>\n",
              "      <th>sales_count_M_4</th>\n",
              "      <th>sales_count_M_5</th>\n",
              "      <th>sales_sum_M_2</th>\n",
              "      <th>sales_sum_M_3</th>\n",
              "      <th>sales_sum_M_4</th>\n",
              "      <th>sales_sum_M_5</th>\n",
              "    </tr>\n",
              "    <tr>\n",
              "      <th>CUSTID</th>\n",
              "      <th></th>\n",
              "      <th></th>\n",
              "      <th></th>\n",
              "      <th></th>\n",
              "      <th></th>\n",
              "      <th></th>\n",
              "      <th></th>\n",
              "      <th></th>\n",
              "      <th></th>\n",
              "      <th></th>\n",
              "      <th></th>\n",
              "      <th></th>\n",
              "    </tr>\n",
              "  </thead>\n",
              "  <tbody>\n",
              "    <tr>\n",
              "      <th>1</th>\n",
              "      <td>4.164125e+08</td>\n",
              "      <td>5.675123e+08</td>\n",
              "      <td>5.665601e+08</td>\n",
              "      <td>8.353450e+08</td>\n",
              "      <td>6.0</td>\n",
              "      <td>10.0</td>\n",
              "      <td>10.0</td>\n",
              "      <td>3.0</td>\n",
              "      <td>2.498475e+09</td>\n",
              "      <td>5.675123e+09</td>\n",
              "      <td>5.665601e+09</td>\n",
              "      <td>2.506035e+09</td>\n",
              "    </tr>\n",
              "    <tr>\n",
              "      <th>2</th>\n",
              "      <td>1.803459e+09</td>\n",
              "      <td>1.033234e+08</td>\n",
              "      <td>2.223531e+08</td>\n",
              "      <td>4.048761e+08</td>\n",
              "      <td>4.0</td>\n",
              "      <td>18.0</td>\n",
              "      <td>17.0</td>\n",
              "      <td>4.0</td>\n",
              "      <td>7.213837e+09</td>\n",
              "      <td>1.859822e+09</td>\n",
              "      <td>3.780003e+09</td>\n",
              "      <td>1.619505e+09</td>\n",
              "    </tr>\n",
              "    <tr>\n",
              "      <th>3</th>\n",
              "      <td>2.717568e+06</td>\n",
              "      <td>4.141760e+05</td>\n",
              "      <td>1.329510e+05</td>\n",
              "      <td>9.766260e+05</td>\n",
              "      <td>2.0</td>\n",
              "      <td>9.0</td>\n",
              "      <td>6.0</td>\n",
              "      <td>3.0</td>\n",
              "      <td>5.435136e+06</td>\n",
              "      <td>3.727584e+06</td>\n",
              "      <td>7.977060e+05</td>\n",
              "      <td>2.929878e+06</td>\n",
              "    </tr>\n",
              "    <tr>\n",
              "      <th>4</th>\n",
              "      <td>5.785318e+06</td>\n",
              "      <td>4.251443e+06</td>\n",
              "      <td>6.793920e+06</td>\n",
              "      <td>1.708966e+06</td>\n",
              "      <td>4.0</td>\n",
              "      <td>4.0</td>\n",
              "      <td>2.0</td>\n",
              "      <td>2.0</td>\n",
              "      <td>2.314127e+07</td>\n",
              "      <td>1.700577e+07</td>\n",
              "      <td>1.358784e+07</td>\n",
              "      <td>3.417932e+06</td>\n",
              "    </tr>\n",
              "    <tr>\n",
              "      <th>5</th>\n",
              "      <td>9.258696e+06</td>\n",
              "      <td>5.484795e+06</td>\n",
              "      <td>7.457112e+06</td>\n",
              "      <td>4.282560e+06</td>\n",
              "      <td>8.0</td>\n",
              "      <td>7.0</td>\n",
              "      <td>4.0</td>\n",
              "      <td>2.0</td>\n",
              "      <td>7.406957e+07</td>\n",
              "      <td>3.839357e+07</td>\n",
              "      <td>2.982845e+07</td>\n",
              "      <td>8.565120e+06</td>\n",
              "    </tr>\n",
              "  </tbody>\n",
              "</table>\n",
              "</div>"
            ],
            "text/plain": [
              "        sales_avg_M_2  sales_avg_M_3  ...  sales_sum_M_4  sales_sum_M_5\n",
              "CUSTID                                ...                              \n",
              "1        4.164125e+08   5.675123e+08  ...   5.665601e+09   2.506035e+09\n",
              "2        1.803459e+09   1.033234e+08  ...   3.780003e+09   1.619505e+09\n",
              "3        2.717568e+06   4.141760e+05  ...   7.977060e+05   2.929878e+06\n",
              "4        5.785318e+06   4.251443e+06  ...   1.358784e+07   3.417932e+06\n",
              "5        9.258696e+06   5.484795e+06  ...   2.982845e+07   8.565120e+06\n",
              "\n",
              "[5 rows x 12 columns]"
            ]
          },
          "execution_count": 31,
          "metadata": {
            "tags": []
          },
          "output_type": "execute_result"
        }
      ],
      "source": [
        "# Create our Features DF\n",
        "features_df = pd.pivot_table(data_df.loc[data_df['M'] != 'M_1'], values=['sales_sum', 'sales_avg', 'sales_count'], columns='M', index='CUSTID')\n",
        "\n",
        "features_df.columns = ['_'.join(col) for col in features_df.columns]\n",
        "\n",
        "features_df.head()"
      ]
    },
    {
      "cell_type": "code",
      "execution_count": null,
      "metadata": {
        "colab": {
          "base_uri": "https://localhost:8080/",
          "height": 202
        },
        "id": "1tvvHK39w_gC",
        "outputId": "92c52b41-bceb-419f-b41f-0072e989a116"
      },
      "outputs": [
        {
          "data": {
            "text/html": [
              "<div>\n",
              "<style scoped>\n",
              "    .dataframe tbody tr th:only-of-type {\n",
              "        vertical-align: middle;\n",
              "    }\n",
              "\n",
              "    .dataframe tbody tr th {\n",
              "        vertical-align: top;\n",
              "    }\n",
              "\n",
              "    .dataframe thead th {\n",
              "        text-align: right;\n",
              "    }\n",
              "</style>\n",
              "<table border=\"1\" class=\"dataframe\">\n",
              "  <thead>\n",
              "    <tr style=\"text-align: right;\">\n",
              "      <th></th>\n",
              "      <th>CUSTID</th>\n",
              "      <th>CLV_3M</th>\n",
              "    </tr>\n",
              "  </thead>\n",
              "  <tbody>\n",
              "    <tr>\n",
              "      <th>4</th>\n",
              "      <td>1</td>\n",
              "      <td>1.134828e+10</td>\n",
              "    </tr>\n",
              "    <tr>\n",
              "      <th>9</th>\n",
              "      <td>2</td>\n",
              "      <td>4.549158e+07</td>\n",
              "    </tr>\n",
              "    <tr>\n",
              "      <th>14</th>\n",
              "      <td>3</td>\n",
              "      <td>2.020032e+06</td>\n",
              "    </tr>\n",
              "    <tr>\n",
              "      <th>19</th>\n",
              "      <td>4</td>\n",
              "      <td>1.087027e+07</td>\n",
              "    </tr>\n",
              "    <tr>\n",
              "      <th>24</th>\n",
              "      <td>5</td>\n",
              "      <td>2.717568e+06</td>\n",
              "    </tr>\n",
              "  </tbody>\n",
              "</table>\n",
              "</div>"
            ],
            "text/plain": [
              "   CUSTID        CLV_3M\n",
              "4       1  1.134828e+10\n",
              "9       2  4.549158e+07\n",
              "14      3  2.020032e+06\n",
              "19      4  1.087027e+07\n",
              "24      5  2.717568e+06"
            ]
          },
          "execution_count": 32,
          "metadata": {
            "tags": []
          },
          "output_type": "execute_result"
        }
      ],
      "source": [
        "# Create our Response DF\n",
        "response_df = data_df.loc[data_df['M'] == 'M_1', ['CUSTID', 'sales_sum']]\n",
        "\n",
        "response_df.columns = ['CUSTID', 'CLV_'+clv_freq]\n",
        "response_df.head()"
      ]
    },
    {
      "cell_type": "code",
      "execution_count": null,
      "metadata": {
        "colab": {
          "base_uri": "https://localhost:8080/",
          "height": 222
        },
        "id": "Kzykjjjow_jK",
        "outputId": "c88517af-c48e-4b03-a226-5606e211ac7b"
      },
      "outputs": [
        {
          "data": {
            "text/html": [
              "<div>\n",
              "<style scoped>\n",
              "    .dataframe tbody tr th:only-of-type {\n",
              "        vertical-align: middle;\n",
              "    }\n",
              "\n",
              "    .dataframe tbody tr th {\n",
              "        vertical-align: top;\n",
              "    }\n",
              "\n",
              "    .dataframe thead th {\n",
              "        text-align: right;\n",
              "    }\n",
              "</style>\n",
              "<table border=\"1\" class=\"dataframe\">\n",
              "  <thead>\n",
              "    <tr style=\"text-align: right;\">\n",
              "      <th></th>\n",
              "      <th>sales_avg_M_2</th>\n",
              "      <th>sales_avg_M_3</th>\n",
              "      <th>sales_avg_M_4</th>\n",
              "      <th>sales_avg_M_5</th>\n",
              "      <th>sales_count_M_2</th>\n",
              "      <th>sales_count_M_3</th>\n",
              "      <th>sales_count_M_4</th>\n",
              "      <th>sales_count_M_5</th>\n",
              "      <th>sales_sum_M_2</th>\n",
              "      <th>sales_sum_M_3</th>\n",
              "      <th>sales_sum_M_4</th>\n",
              "      <th>sales_sum_M_5</th>\n",
              "      <th>CUSTID</th>\n",
              "      <th>CLV_3M</th>\n",
              "    </tr>\n",
              "  </thead>\n",
              "  <tbody>\n",
              "    <tr>\n",
              "      <th>4.0</th>\n",
              "      <td>4.164125e+08</td>\n",
              "      <td>5.675123e+08</td>\n",
              "      <td>5.665601e+08</td>\n",
              "      <td>8.353450e+08</td>\n",
              "      <td>6.0</td>\n",
              "      <td>10.0</td>\n",
              "      <td>10.0</td>\n",
              "      <td>3.0</td>\n",
              "      <td>2.498475e+09</td>\n",
              "      <td>5.675123e+09</td>\n",
              "      <td>5.665601e+09</td>\n",
              "      <td>2.506035e+09</td>\n",
              "      <td>1</td>\n",
              "      <td>1.134828e+10</td>\n",
              "    </tr>\n",
              "    <tr>\n",
              "      <th>9.0</th>\n",
              "      <td>1.803459e+09</td>\n",
              "      <td>1.033234e+08</td>\n",
              "      <td>2.223531e+08</td>\n",
              "      <td>4.048761e+08</td>\n",
              "      <td>4.0</td>\n",
              "      <td>18.0</td>\n",
              "      <td>17.0</td>\n",
              "      <td>4.0</td>\n",
              "      <td>7.213837e+09</td>\n",
              "      <td>1.859822e+09</td>\n",
              "      <td>3.780003e+09</td>\n",
              "      <td>1.619505e+09</td>\n",
              "      <td>2</td>\n",
              "      <td>4.549158e+07</td>\n",
              "    </tr>\n",
              "    <tr>\n",
              "      <th>14.0</th>\n",
              "      <td>2.717568e+06</td>\n",
              "      <td>4.141760e+05</td>\n",
              "      <td>1.329510e+05</td>\n",
              "      <td>9.766260e+05</td>\n",
              "      <td>2.0</td>\n",
              "      <td>9.0</td>\n",
              "      <td>6.0</td>\n",
              "      <td>3.0</td>\n",
              "      <td>5.435136e+06</td>\n",
              "      <td>3.727584e+06</td>\n",
              "      <td>7.977060e+05</td>\n",
              "      <td>2.929878e+06</td>\n",
              "      <td>3</td>\n",
              "      <td>2.020032e+06</td>\n",
              "    </tr>\n",
              "    <tr>\n",
              "      <th>19.0</th>\n",
              "      <td>5.785318e+06</td>\n",
              "      <td>4.251443e+06</td>\n",
              "      <td>6.793920e+06</td>\n",
              "      <td>1.708966e+06</td>\n",
              "      <td>4.0</td>\n",
              "      <td>4.0</td>\n",
              "      <td>2.0</td>\n",
              "      <td>2.0</td>\n",
              "      <td>2.314127e+07</td>\n",
              "      <td>1.700577e+07</td>\n",
              "      <td>1.358784e+07</td>\n",
              "      <td>3.417932e+06</td>\n",
              "      <td>4</td>\n",
              "      <td>1.087027e+07</td>\n",
              "    </tr>\n",
              "    <tr>\n",
              "      <th>24.0</th>\n",
              "      <td>9.258696e+06</td>\n",
              "      <td>5.484795e+06</td>\n",
              "      <td>7.457112e+06</td>\n",
              "      <td>4.282560e+06</td>\n",
              "      <td>8.0</td>\n",
              "      <td>7.0</td>\n",
              "      <td>4.0</td>\n",
              "      <td>2.0</td>\n",
              "      <td>7.406957e+07</td>\n",
              "      <td>3.839357e+07</td>\n",
              "      <td>2.982845e+07</td>\n",
              "      <td>8.565120e+06</td>\n",
              "      <td>5</td>\n",
              "      <td>2.717568e+06</td>\n",
              "    </tr>\n",
              "  </tbody>\n",
              "</table>\n",
              "</div>"
            ],
            "text/plain": [
              "      sales_avg_M_2  sales_avg_M_3  ...  CUSTID        CLV_3M\n",
              "4.0    4.164125e+08   5.675123e+08  ...       1  1.134828e+10\n",
              "9.0    1.803459e+09   1.033234e+08  ...       2  4.549158e+07\n",
              "14.0   2.717568e+06   4.141760e+05  ...       3  2.020032e+06\n",
              "19.0   5.785318e+06   4.251443e+06  ...       4  1.087027e+07\n",
              "24.0   9.258696e+06   5.484795e+06  ...       5  2.717568e+06\n",
              "\n",
              "[5 rows x 14 columns]"
            ]
          },
          "execution_count": 33,
          "metadata": {
            "tags": []
          },
          "output_type": "execute_result"
        }
      ],
      "source": [
        "# Create our Sample Set by merging features with response_df\n",
        "sample_set_df = features_df.merge(\n",
        "    response_df, \n",
        "    left_index=True, \n",
        "    right_on='CUSTID',\n",
        "    how='left'\n",
        ")\n",
        "\n",
        "sample_set_df = sample_set_df.fillna(0)\n",
        "sample_set_df.head()"
      ]
    },
    {
      "cell_type": "markdown",
      "metadata": {
        "id": "_gYN_XkD8785"
      },
      "source": [
        "# Using Linear Regression"
      ]
    },
    {
      "cell_type": "code",
      "execution_count": null,
      "metadata": {
        "colab": {
          "base_uri": "https://localhost:8080/"
        },
        "id": "YietaEyLw_lT",
        "outputId": "c37134fb-4e3b-40c8-d678-576d6ab3813d"
      },
      "outputs": [
        {
          "data": {
            "text/plain": [
              "LinearRegression(copy_X=True, fit_intercept=True, n_jobs=None, normalize=False)"
            ]
          },
          "execution_count": 34,
          "metadata": {
            "tags": []
          },
          "output_type": "execute_result"
        }
      ],
      "source": [
        "# Linear regression\n",
        "from sklearn.linear_model import LinearRegression\n",
        "from sklearn.model_selection import train_test_split\n",
        "\n",
        "# Our Target Variable\n",
        "target_var = 'CLV_'+clv_freq\n",
        "\n",
        "# Our Features\n",
        "all_features = [x for x in sample_set_df.columns if x not in ['CUSTID', target_var]]\n",
        "\n",
        "# Split data in Train and Test\n",
        "x_train, x_test, y_train, y_test = train_test_split(sample_set_df[all_features], sample_set_df[target_var], test_size=0.3)\n",
        "\n",
        "# Fit Model\n",
        "reg_fit = LinearRegression()\n",
        "reg_fit.fit(x_train, y_train)"
      ]
    },
    {
      "cell_type": "code",
      "execution_count": null,
      "metadata": {
        "colab": {
          "base_uri": "https://localhost:8080/"
        },
        "id": "ZF0qISYm8-cs",
        "outputId": "4c984286-7d4d-45e8-eae7-59bd17ca239e"
      },
      "outputs": [
        {
          "data": {
            "text/plain": [
              "-49016083.66368866"
            ]
          },
          "execution_count": 35,
          "metadata": {
            "tags": []
          },
          "output_type": "execute_result"
        }
      ],
      "source": [
        "# Get our y intercept\n",
        "reg_fit.intercept_"
      ]
    },
    {
      "cell_type": "code",
      "execution_count": null,
      "metadata": {
        "colab": {
          "base_uri": "https://localhost:8080/"
        },
        "id": "m7O9o8378-fK",
        "outputId": "0f49860c-9a34-4a9f-98a2-52397a0bc8d1"
      },
      "outputs": [
        {
          "data": {
            "text/plain": [
              "array([-2.74492377e+00,  3.34429759e+00, -2.15673874e+00, -7.65957909e-01,\n",
              "        1.01781392e+07,  1.10375616e+08, -7.84913549e+07, -1.69596120e+08,\n",
              "       -5.66137769e-01, -1.06740896e+00,  2.97954945e+00,  2.90334006e+00])"
            ]
          },
          "execution_count": 36,
          "metadata": {
            "tags": []
          },
          "output_type": "execute_result"
        }
      ],
      "source": [
        "# Get our coefficents\n",
        "reg_fit.coef_"
      ]
    },
    {
      "cell_type": "code",
      "execution_count": null,
      "metadata": {
        "colab": {
          "base_uri": "https://localhost:8080/",
          "height": 418
        },
        "id": "u8pC4sdq8-iX",
        "outputId": "3910d7b1-4d62-4fd5-a41f-7f235be07b78"
      },
      "outputs": [
        {
          "data": {
            "text/html": [
              "<div>\n",
              "<style scoped>\n",
              "    .dataframe tbody tr th:only-of-type {\n",
              "        vertical-align: middle;\n",
              "    }\n",
              "\n",
              "    .dataframe tbody tr th {\n",
              "        vertical-align: top;\n",
              "    }\n",
              "\n",
              "    .dataframe thead th {\n",
              "        text-align: right;\n",
              "    }\n",
              "</style>\n",
              "<table border=\"1\" class=\"dataframe\">\n",
              "  <thead>\n",
              "    <tr style=\"text-align: right;\">\n",
              "      <th></th>\n",
              "      <th>feature</th>\n",
              "      <th>coef</th>\n",
              "    </tr>\n",
              "  </thead>\n",
              "  <tbody>\n",
              "    <tr>\n",
              "      <th>0</th>\n",
              "      <td>sales_avg_M_2</td>\n",
              "      <td>-2.744924e+00</td>\n",
              "    </tr>\n",
              "    <tr>\n",
              "      <th>1</th>\n",
              "      <td>sales_avg_M_3</td>\n",
              "      <td>3.344298e+00</td>\n",
              "    </tr>\n",
              "    <tr>\n",
              "      <th>2</th>\n",
              "      <td>sales_avg_M_4</td>\n",
              "      <td>-2.156739e+00</td>\n",
              "    </tr>\n",
              "    <tr>\n",
              "      <th>3</th>\n",
              "      <td>sales_avg_M_5</td>\n",
              "      <td>-7.659579e-01</td>\n",
              "    </tr>\n",
              "    <tr>\n",
              "      <th>4</th>\n",
              "      <td>sales_count_M_2</td>\n",
              "      <td>1.017814e+07</td>\n",
              "    </tr>\n",
              "    <tr>\n",
              "      <th>5</th>\n",
              "      <td>sales_count_M_3</td>\n",
              "      <td>1.103756e+08</td>\n",
              "    </tr>\n",
              "    <tr>\n",
              "      <th>6</th>\n",
              "      <td>sales_count_M_4</td>\n",
              "      <td>-7.849135e+07</td>\n",
              "    </tr>\n",
              "    <tr>\n",
              "      <th>7</th>\n",
              "      <td>sales_count_M_5</td>\n",
              "      <td>-1.695961e+08</td>\n",
              "    </tr>\n",
              "    <tr>\n",
              "      <th>8</th>\n",
              "      <td>sales_sum_M_2</td>\n",
              "      <td>-5.661378e-01</td>\n",
              "    </tr>\n",
              "    <tr>\n",
              "      <th>9</th>\n",
              "      <td>sales_sum_M_3</td>\n",
              "      <td>-1.067409e+00</td>\n",
              "    </tr>\n",
              "    <tr>\n",
              "      <th>10</th>\n",
              "      <td>sales_sum_M_4</td>\n",
              "      <td>2.979549e+00</td>\n",
              "    </tr>\n",
              "    <tr>\n",
              "      <th>11</th>\n",
              "      <td>sales_sum_M_5</td>\n",
              "      <td>2.903340e+00</td>\n",
              "    </tr>\n",
              "  </tbody>\n",
              "</table>\n",
              "</div>"
            ],
            "text/plain": [
              "            feature          coef\n",
              "0     sales_avg_M_2 -2.744924e+00\n",
              "1     sales_avg_M_3  3.344298e+00\n",
              "2     sales_avg_M_4 -2.156739e+00\n",
              "3     sales_avg_M_5 -7.659579e-01\n",
              "4   sales_count_M_2  1.017814e+07\n",
              "5   sales_count_M_3  1.103756e+08\n",
              "6   sales_count_M_4 -7.849135e+07\n",
              "7   sales_count_M_5 -1.695961e+08\n",
              "8     sales_sum_M_2 -5.661378e-01\n",
              "9     sales_sum_M_3 -1.067409e+00\n",
              "10    sales_sum_M_4  2.979549e+00\n",
              "11    sales_sum_M_5  2.903340e+00"
            ]
          },
          "execution_count": 37,
          "metadata": {
            "tags": []
          },
          "output_type": "execute_result"
        }
      ],
      "source": [
        "# Show them here per feature\n",
        "coef = pd.DataFrame(list(zip(all_features, reg_fit.coef_)))\n",
        "coef.columns = ['feature', 'coef']\n",
        "\n",
        "coef"
      ]
    },
    {
      "cell_type": "code",
      "execution_count": null,
      "metadata": {
        "id": "HxWcm2OR8-kj"
      },
      "outputs": [],
      "source": [
        "# Run our input data into our model predictors\n",
        "train_preds = reg_fit.predict(x_train)\n",
        "test_preds = reg_fit.predict(x_test)"
      ]
    },
    {
      "cell_type": "code",
      "execution_count": null,
      "metadata": {
        "colab": {
          "base_uri": "https://localhost:8080/"
        },
        "id": "wCJHLstk8-nV",
        "outputId": "afa1e5d8-5180-42c0-d6b3-f49e14df5c90"
      },
      "outputs": [
        {
          "name": "stdout",
          "output_type": "stream",
          "text": [
            "0.973279983755843\n",
            "76349123.42144358\n"
          ]
        }
      ],
      "source": [
        "# Assess performance Training Data\n",
        "from sklearn.metrics import r2_score, median_absolute_error\n",
        "\n",
        "print(r2_score(y_true=y_train, y_pred=train_preds))\n",
        "print(median_absolute_error(y_true=y_train, y_pred=train_preds))"
      ]
    },
    {
      "cell_type": "code",
      "execution_count": null,
      "metadata": {
        "colab": {
          "base_uri": "https://localhost:8080/"
        },
        "id": "h3eK6rsuw_oG",
        "outputId": "6a1f520d-94c6-4c77-8756-bba256f6ef4b"
      },
      "outputs": [
        {
          "name": "stdout",
          "output_type": "stream",
          "text": [
            "In-Sample R-Squared: 0.9733\n",
            "Out-of-Sample R-Squared: 0.9237\n"
          ]
        }
      ],
      "source": [
        "# Compare R-Squared Performance on Training and Test Datasets\n",
        "print('In-Sample R-Squared: %0.4f' % r2_score(y_true = y_train, y_pred = train_preds))\n",
        "print('Out-of-Sample R-Squared: %0.4f' % r2_score(y_true = y_test, y_pred = test_preds))"
      ]
    },
    {
      "cell_type": "code",
      "execution_count": null,
      "metadata": {
        "colab": {
          "base_uri": "https://localhost:8080/"
        },
        "id": "416Vw7EB9Kjm",
        "outputId": "3e2accd0-b8c6-4eaa-86c9-971bb716f7fb"
      },
      "outputs": [
        {
          "name": "stdout",
          "output_type": "stream",
          "text": [
            "In-Sample MSE: 76349123.4214\n",
            "Out-of-Sample MSE: 78727210.1055\n"
          ]
        }
      ],
      "source": [
        "# Compare MSE on Training and Test Datasets\n",
        "print('In-Sample MSE: %0.4f' % median_absolute_error(y_true = y_train, y_pred = train_preds))\n",
        "print('Out-of-Sample MSE: %0.4f' % median_absolute_error(y_true = y_test, y_pred = test_preds))"
      ]
    },
    {
      "cell_type": "code",
      "execution_count": null,
      "metadata": {
        "colab": {
          "base_uri": "https://localhost:8080/",
          "height": 295
        },
        "id": "Ijzkavap9KmA",
        "outputId": "6e96c23f-4573-4763-92bd-f3681cce0c32"
      },
      "outputs": [
        {
          "data": {
            "image/png": "[encoded data removed]",
            "text/plain": [
              "<Figure size 432x288 with 1 Axes>"
            ]
          },
          "metadata": {
            "needs_background": "light",
            "tags": []
          },
          "output_type": "display_data"
        }
      ],
      "source": [
        "# Plot the predicted vs actual values using our Test Dataset\n",
        "plt.scatter(y_test, test_preds)\n",
        "plt.plot([0, max(y_test)], [0, max(test_preds)], color='gray', lw=1, linestyle='--')\n",
        "\n",
        "plt.xlabel('actual')\n",
        "plt.ylabel('predicted')\n",
        "plt.title('Out-of-Sample Actual vs. Predicted')\n",
        "plt.grid()\n",
        "\n",
        "plt.show()"
      ]
    }
  ],
  "metadata": {
    "colab": {
      "collapsed_sections": [],
      "name": "Online Retail Project_Indonesia.ipynb",
      "provenance": []
    },
    "kernelspec": {
      "display_name": "Python 3",
      "name": "python3"
    },
    "language_info": {
      "name": "python"
    }
  },
  "nbformat": 4,
  "nbformat_minor": 0
}
